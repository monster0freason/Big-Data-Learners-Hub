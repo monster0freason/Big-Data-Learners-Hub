{
 "cells": [
  {
   "cell_type": "code",
   "execution_count": 1,
   "id": "cb590db8-6d0c-4c77-bb99-1459c7791081",
   "metadata": {},
   "outputs": [],
   "source": [
    "from pyspark.sql import SparkSession\n",
    "from pyspark.sql.functions import col,sum, format_number\n",
    "spark = SparkSession.builder.appName(\"Ques 7\").getOrCreate()\n",
    "\n",
    "DF=spark.read.csv(\"house_apartment_cleaned_data.csv\")\n",
    "# DF.show()\n",
    "columns = [\"locality\", \"types_of_property\", \"subtype_of_property\", \"price\", \"no_of_rooms\", \"open_fire\", \"terrace\", \n",
    "           \"garden\",\"swimming_pool\", \"state_building\", \"construction_year\"]\n",
    "# print(columns)\n",
    "\n",
    "mydf=DF.toDF(*columns)\n",
    "# mydf.show()"
   ]
  },
  {
   "cell_type": "code",
   "execution_count": 3,
   "id": "979d0b82-3926-4342-ae6c-e8398c454e03",
   "metadata": {},
   "outputs": [
    {
     "name": "stdout",
     "output_type": "stream",
     "text": [
      "+--------------------+------------------------+---------------------------+\n",
      "| subtype_of_property|Total_price_with_Terrace|Total_price_without_Terrace|\n",
      "+--------------------+------------------------+---------------------------+\n",
      "|         manor house|              16,566,000|                 28,025,500|\n",
      "|               villa|             909,476,874|                477,007,539|\n",
      "|           farmhouse|              24,985,500|                 37,995,009|\n",
      "|              castle|               3,749,999|                  2,539,000|\n",
      "|  mixed use building|             173,179,254|                185,599,482|\n",
      "|     apartment block|             185,668,603|                240,367,941|\n",
      "|              chalet|              10,740,200|                  6,789,856|\n",
      "|            bungalow|              50,304,694|                 27,411,250|\n",
      "|      other property|               7,719,786|                 15,315,500|\n",
      "|             mansion|             127,880,590|                 92,403,895|\n",
      "|     country cottage|              63,796,899|                 80,090,244|\n",
      "|               house|           3,134,733,209|              2,991,179,166|\n",
      "|          town house|              91,449,478|                 39,856,582|\n",
      "|exceptional property|             176,559,904|                 63,147,977|\n",
      "+--------------------+------------------------+---------------------------+\n",
      "\n"
     ]
    }
   ],
   "source": [
    "houseWithTerrace = mydf.filter((col(\"types_of_property\") == \"house\") & (col(\"terrace\") == 1))\n",
    "# houseWithTerrace.show()\n",
    "totalWithPrice = houseWithTerrace.groupBy(\"subtype_of_property\").agg(sum(\"price\").alias(\"Total_price_with_Terrace\"))\n",
    "formatted_with_price = totalWithPrice.withColumn(\"Total_price_with_Terrace\", format_number(\"Total_price_with_Terrace\", 0))\n",
    "# formatted_with_price.show()\n",
    "\n",
    "houseWithoutTerrace = mydf.filter((col(\"types_of_property\") == \"house\") & (col(\"terrace\") == 0))\n",
    "# houseWithoutTerrace.show()\n",
    "totalWithoutPrice = houseWithoutTerrace.groupBy(\"subtype_of_property\").agg(sum(\"price\").alias(\"Total_price_without_Terrace\"))\n",
    "formatted_without_price = totalWithoutPrice.withColumn(\"Total_price_without_Terrace\", format_number(\"Total_price_without_Terrace\", 0))\n",
    "# formatted_without_price.show()\n",
    "\n",
    "\n",
    "merge = (formatted_with_price\n",
    "             .join(formatted_without_price, formatted_with_price[\"subtype_of_property\"] == formatted_without_price[\"subtype_of_property\"])\n",
    "             )\n",
    "new_df = merge.select(formatted_with_price[\"subtype_of_property\"], \"Total_price_with_Terrace\", \"Total_price_without_Terrace\")\n",
    "new_df.show()"
   ]
  },
  {
   "cell_type": "code",
   "execution_count": null,
   "id": "fedf55ff-97c2-4e23-a0da-ab49ceab56be",
   "metadata": {},
   "outputs": [],
   "source": []
  }
 ],
 "metadata": {
  "kernelspec": {
   "display_name": "Python 3 (ipykernel)",
   "language": "python",
   "name": "python3"
  },
  "language_info": {
   "codemirror_mode": {
    "name": "ipython",
    "version": 3
   },
   "file_extension": ".py",
   "mimetype": "text/x-python",
   "name": "python",
   "nbconvert_exporter": "python",
   "pygments_lexer": "ipython3",
   "version": "3.9.0"
  }
 },
 "nbformat": 4,
 "nbformat_minor": 5
}
