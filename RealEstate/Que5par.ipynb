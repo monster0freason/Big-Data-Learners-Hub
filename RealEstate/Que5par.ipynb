{
 "cells": [
  {
   "cell_type": "code",
   "execution_count": 1,
   "id": "0b782232-232a-4c0c-8af3-8c296919e764",
   "metadata": {},
   "outputs": [],
   "source": [
    "from pyspark.sql import SparkSession\n",
    "spark = SparkSession.builder.appName(\"Operation2\").getOrCreate()\n",
    "df = spark.read.csv(\"./house_apartment_cleaned_data.csv\")\n",
    "new_cols = [\"locality\", \"type_of_property\", \"subtype_of_property\", \"price\", \"number_of_rooms\", \"open_fire\", \"terrace\", \"garden\", \"swimming_pool\",\n",
    "            \"state_of_the_building\", \"construction_year\"]\n",
    "col_df = df.toDF(*new_cols)\n",
    "filtered = col_df.filter(col_df[\"number_of_rooms\"] > 5)\n",
    "result_df = filtered.select(\"locality\",\"subtype_of_property\", \"price\")\n",
    "result_df.rdd.getNumPartitions()\n",
    "result_df.write.option(\"header\",\"true\").parquet(\"./Que__5_parquet\")"
   ]
  },
  {
   "cell_type": "code",
   "execution_count": null,
   "id": "e954410c-0034-4327-a8b0-c747b7d357b4",
   "metadata": {},
   "outputs": [],
   "source": []
  }
 ],
 "metadata": {
  "kernelspec": {
   "display_name": "Python 3 (ipykernel)",
   "language": "python",
   "name": "python3"
  },
  "language_info": {
   "codemirror_mode": {
    "name": "ipython",
    "version": 3
   },
   "file_extension": ".py",
   "mimetype": "text/x-python",
   "name": "python",
   "nbconvert_exporter": "python",
   "pygments_lexer": "ipython3",
   "version": "3.13.3"
  }
 },
 "nbformat": 4,
 "nbformat_minor": 5
}
