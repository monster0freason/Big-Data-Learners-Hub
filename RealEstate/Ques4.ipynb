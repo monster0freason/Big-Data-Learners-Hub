{
 "cells": [
  {
   "cell_type": "code",
   "execution_count": 2,
   "id": "b77f064a-19ca-456b-bfb0-5bc12b9e6891",
   "metadata": {},
   "outputs": [
    {
     "name": "stdout",
     "output_type": "stream",
     "text": [
      "Number of houses in 'good' state: 7983\n",
      "+--------------------+-----+\n",
      "| subtype_of_property|count|\n",
      "+--------------------+-----+\n",
      "|         manor house|   34|\n",
      "|               villa|  834|\n",
      "|           farmhouse|   30|\n",
      "|              castle|    2|\n",
      "|  mixed use building|  377|\n",
      "|     apartment block|  334|\n",
      "|              chalet|   42|\n",
      "|            bungalow|  101|\n",
      "|      other property|   17|\n",
      "|     country cottage|   67|\n",
      "|             mansion|  131|\n",
      "|               house| 5772|\n",
      "|          town house|  126|\n",
      "|exceptional property|  116|\n",
      "+--------------------+-----+\n",
      "\n"
     ]
    }
   ],
   "source": [
    "from pyspark.sql import SparkSession\n",
    "from pyspark.sql.functions import col \n",
    "spark = SparkSession.builder.appName(\"Ques 4\").getOrCreate()\n",
    "\n",
    "DF=spark.read.csv(\"house_apartment_cleaned_data.csv\")\n",
    "# DF.show()\n",
    "columns = [\"locality\", \"types_of_property\", \"subtype_of_property\", \"price\", \"no_of_rooms\", \"open_fire\", \"terrace\", \n",
    "           \"garden\",\"swimming_pool\", \"state_building\", \"construction_year\"]\n",
    "# print(columns)\n",
    "mydf=DF.toDF(*columns)\n",
    "# mydf.show()\n",
    "\n",
    "good_state_df = mydf.filter((col(\"state_building\") == \"good\") & (col(\"types_of_property\") == \"house\"))\n",
    "# good_state_df.show()\n",
    "\n",
    "print(f\"Number of houses in 'good' state: {good_state_df.count()}\")\n",
    "\n",
    "good_state_counts = good_state_df.groupBy(\"subtype_of_property\").count()\n",
    "good_state_counts.show()"
   ]
  },
  {
   "cell_type": "code",
   "execution_count": null,
   "id": "045cb835-d225-47ac-a552-8b4ee624fd89",
   "metadata": {},
   "outputs": [],
   "source": []
  }
 ],
 "metadata": {
  "kernelspec": {
   "display_name": "Python 3 (ipykernel)",
   "language": "python",
   "name": "python3"
  },
  "language_info": {
   "codemirror_mode": {
    "name": "ipython",
    "version": 3
   },
   "file_extension": ".py",
   "mimetype": "text/x-python",
   "name": "python",
   "nbconvert_exporter": "python",
   "pygments_lexer": "ipython3",
   "version": "3.9.0"
  }
 },
 "nbformat": 4,
 "nbformat_minor": 5
}
