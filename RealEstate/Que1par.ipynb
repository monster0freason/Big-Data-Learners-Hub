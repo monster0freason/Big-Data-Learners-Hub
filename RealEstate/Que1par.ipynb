{
 "cells": [
  {
   "cell_type": "code",
   "execution_count": 1,
   "id": "a0efe989-17a4-48aa-b502-5172edd11e7d",
   "metadata": {},
   "outputs": [
    {
     "name": "stdout",
     "output_type": "stream",
     "text": [
      "+-------------------+-------------+\n",
      "|subtype_of_property|   sum(price)|\n",
      "+-------------------+-------------+\n",
      "|              house|6,125,912,375|\n",
      "|           pavilion|       19,900|\n",
      "+-------------------+-------------+\n",
      "\n"
     ]
    }
   ],
   "source": [
    "from pyspark.sql import SparkSession\n",
    "spark = SparkSession.builder.appName(\"Operations\").getOrCreate()\n",
    "df = spark.read.csv(\"./house_apartment_cleaned_data.csv\")\n",
    "new_cols = [\"locality\", \"type_of_property\", \"subtype_of_property\", \"price\", \"number_of_rooms\", \"open_fire\", \"terrace\", \"garden\", \"swimming_pool\",\n",
    "            \"state_of_the_building\", \"construction_year\"]\n",
    "col_df = df.toDF(*new_cols)\n",
    "# col_df.printSchema()\n",
    "from pyspark.sql.functions import format_number\n",
    "total_price = col_df.groupBy(\"subtype_of_property\").agg({\"price\":\"sum\"})\n",
    "min_val = total_price.orderBy(\"sum(price)\", ascending=True).limit(1)\n",
    "formatted_min_df = min_val.withColumn(\"sum(price)\", format_number(\"sum(price)\", 0))\n",
    "max_val = total_price.orderBy(\"sum(price)\", ascending=False).limit(1)\n",
    "formatted_max_df = max_val.withColumn(\"sum(price)\", format_number(\"sum(price)\", 0))\n",
    "final_df = formatted_max_df.union(formatted_min_df)\n",
    "final_df.show()\n",
    "final_df.rdd.getNumPartitions()\n",
    "output_df = final_df.coalesce(1)\n",
    "output_df.write.option(\"header\", \"true\").parquet(\"./Que__1_parquet\")"
   ]
  },
  {
   "cell_type": "code",
   "execution_count": null,
   "id": "89d97c27-c650-44a8-8711-2f0ede88d3fb",
   "metadata": {},
   "outputs": [],
   "source": []
  }
 ],
 "metadata": {
  "kernelspec": {
   "display_name": "Python 3 (ipykernel)",
   "language": "python",
   "name": "python3"
  },
  "language_info": {
   "codemirror_mode": {
    "name": "ipython",
    "version": 3
   },
   "file_extension": ".py",
   "mimetype": "text/x-python",
   "name": "python",
   "nbconvert_exporter": "python",
   "pygments_lexer": "ipython3",
   "version": "3.13.3"
  }
 },
 "nbformat": 4,
 "nbformat_minor": 5
}
