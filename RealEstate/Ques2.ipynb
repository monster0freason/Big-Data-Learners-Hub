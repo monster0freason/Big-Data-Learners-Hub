{
 "cells": [
  {
   "cell_type": "code",
   "execution_count": 2,
   "id": "9793a3d2-d1e5-4395-be8f-5a7b4df5b178",
   "metadata": {},
   "outputs": [
    {
     "name": "stdout",
     "output_type": "stream",
     "text": [
      "The no. of houses having open_fire =  2090\n",
      "+--------------------+---------------+\n",
      "| subtype_of_property|No_of_open_fire|\n",
      "+--------------------+---------------+\n",
      "|         manor house|             20|\n",
      "|               villa|            571|\n",
      "|           farmhouse|             11|\n",
      "|  mixed use building|             35|\n",
      "|     apartment block|             15|\n",
      "|              chalet|             10|\n",
      "|            bungalow|             39|\n",
      "|      other property|              5|\n",
      "|             mansion|             62|\n",
      "|     country cottage|             41|\n",
      "|               house|           1162|\n",
      "|          town house|             51|\n",
      "|exceptional property|             68|\n",
      "+--------------------+---------------+\n",
      "\n"
     ]
    }
   ],
   "source": [
    "from pyspark.sql import SparkSession\n",
    "from pyspark.sql.functions import count\n",
    "spark = SparkSession.builder.appName(\"Ques2\").getOrCreate()\n",
    "\n",
    "haDF = spark.read.csv(\"house_apartment_cleaned_data.csv\")\n",
    "# haDF.show()\n",
    "\n",
    "cols = [\"locality\", \"type_of_property\", \"subtype_of_property\", \"price\", \"no_of_rooms\", \"open_fire\", \"terrace\", \n",
    "        \"garden\", \"swimming_pool\", \"state_of_building\", \"construction_year\"]\n",
    "# print(cols)\n",
    "\n",
    "df = haDF.toDF(*cols)\n",
    "# df.show()\n",
    "\n",
    "houseOpenFire = df.filter((df[\"type_of_property\"] == \"house\") & (df[\"open_fire\"] == 1))\n",
    "# houseOpenFire.show()\n",
    "\n",
    "print(\"The no. of houses having open_fire = \",houseOpenFire.count())\n",
    "\n",
    "totOpFire = houseOpenFire.groupBy(\"subtype_of_property\").agg(count(\"open_fire\").alias(\"No_of_open_fire\"))\n",
    "totOpFire.show()"
   ]
  },
  {
   "cell_type": "code",
   "execution_count": 3,
   "id": "9ee4b907-7cc3-4c06-bdd4-1c8d9d14ba4f",
   "metadata": {},
   "outputs": [
    {
     "name": "stdout",
     "output_type": "stream",
     "text": [
      "File Saved\n"
     ]
    }
   ],
   "source": [
    "totOpFire.write.parquet(\"Results/Res2.parquet\")\n",
    "print(\"File Saved\")"
   ]
  },
  {
   "cell_type": "code",
   "execution_count": null,
   "id": "6b6d1fd8-73fe-4140-8e2e-cbc70eb4560f",
   "metadata": {},
   "outputs": [],
   "source": []
  }
 ],
 "metadata": {
  "kernelspec": {
   "display_name": "Python 3 (ipykernel)",
   "language": "python",
   "name": "python3"
  },
  "language_info": {
   "codemirror_mode": {
    "name": "ipython",
    "version": 3
   },
   "file_extension": ".py",
   "mimetype": "text/x-python",
   "name": "python",
   "nbconvert_exporter": "python",
   "pygments_lexer": "ipython3",
   "version": "3.9.0"
  }
 },
 "nbformat": 4,
 "nbformat_minor": 5
}
