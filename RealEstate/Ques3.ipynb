{
 "cells": [
  {
   "cell_type": "code",
   "execution_count": 1,
   "id": "5bb8276f-2a98-4df1-bddf-60b10dfbf857",
   "metadata": {},
   "outputs": [
    {
     "name": "stdout",
     "output_type": "stream",
     "text": [
      "The total no of houses having (price > 500000) =  3905\n",
      "+--------------------+----------+\n",
      "| subtype_of_property|max(price)|\n",
      "+--------------------+----------+\n",
      "|     apartment block|    950000|\n",
      "|            bungalow|    900000|\n",
      "|              castle|    900000|\n",
      "|     country cottage|    950000|\n",
      "|exceptional property|    950000|\n",
      "|           farmhouse|    900000|\n",
      "|               house|    950000|\n",
      "|         manor house|    950000|\n",
      "|             mansion|    950000|\n",
      "|  mixed use building|    950000|\n",
      "|      other property|    911000|\n",
      "|          town house|    895000|\n",
      "|               villa|    950000|\n",
      "+--------------------+----------+\n",
      "\n"
     ]
    }
   ],
   "source": [
    "from pyspark.sql import SparkSession\n",
    "spark = SparkSession.builder.appName(\"Ques3\").getOrCreate()\n",
    "\n",
    "haDF = spark.read.csv(\"house_apartment_cleaned_data.csv\")\n",
    "# haDF.show()\n",
    "\n",
    "cols = [\"locality\", \"type_of_property\", \"subtype_of_property\", \"price\", \"no_of_rooms\", \"open_fire\", \"terrace\", \"garden\",\n",
    "       \"swimming_pool\", \"state_of_building\", \"construction_year\"]\n",
    "# print(cols)\n",
    "\n",
    "df = haDF.toDF(*cols)\n",
    "# df.show()\n",
    "\n",
    "onlyHousePrice = df.filter((df[\"type_of_property\"] == \"house\") & (df[\"price\"] > 500000))\n",
    "# onlyHousePrice.show()\n",
    "\n",
    "print(\"The total no of houses having (price > 500000) = \", onlyHousePrice.count())\n",
    "\n",
    "res = onlyHousePrice.groupBy(\"subtype_of_property\").agg({\"price\":\"max\"})\n",
    "res.show()"
   ]
  },
  {
   "cell_type": "code",
   "execution_count": 2,
   "id": "5e77a4c7-f699-4762-a688-4a335b7716f5",
   "metadata": {},
   "outputs": [
    {
     "name": "stdout",
     "output_type": "stream",
     "text": [
      "File Saved\n"
     ]
    }
   ],
   "source": [
    "res.write.parquet(\"Results/Res3.parquet\")\n",
    "print(\"File Saved\")"
   ]
  },
  {
   "cell_type": "code",
   "execution_count": null,
   "id": "8afd375a-2baa-45e7-9bc9-46b2e0bbaee8",
   "metadata": {},
   "outputs": [],
   "source": []
  }
 ],
 "metadata": {
  "kernelspec": {
   "display_name": "Python 3 (ipykernel)",
   "language": "python",
   "name": "python3"
  },
  "language_info": {
   "codemirror_mode": {
    "name": "ipython",
    "version": 3
   },
   "file_extension": ".py",
   "mimetype": "text/x-python",
   "name": "python",
   "nbconvert_exporter": "python",
   "pygments_lexer": "ipython3",
   "version": "3.9.0"
  }
 },
 "nbformat": 4,
 "nbformat_minor": 5
}
