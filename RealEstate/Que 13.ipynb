{
  "nbformat": 4,
  "nbformat_minor": 0,
  "metadata": {
    "colab": {
      "provenance": []
    },
    "kernelspec": {
      "name": "python3",
      "display_name": "Python 3"
    },
    "language_info": {
      "name": "python"
    }
  },
  "cells": [
    {
      "cell_type": "code",
      "execution_count": 1,
      "metadata": {
        "id": "I5-p7iejjq4K"
      },
      "outputs": [],
      "source": [
        "from pyspark.sql import SparkSession"
      ]
    },
    {
      "cell_type": "code",
      "source": [
        "spark = SparkSession.builder.appName('Analysis').getOrCreate()"
      ],
      "metadata": {
        "id": "LPe1SJPoj17U"
      },
      "execution_count": 2,
      "outputs": []
    },
    {
      "cell_type": "code",
      "source": [
        "sc = spark.sparkContext"
      ],
      "metadata": {
        "id": "-hnOUQ-Lj_ie"
      },
      "execution_count": 3,
      "outputs": []
    },
    {
      "cell_type": "code",
      "source": [
        "rdd = sc.textFile(\"/content/house_apartment_cleaned_data.xls\")"
      ],
      "metadata": {
        "id": "k8vZu15xkEcK"
      },
      "execution_count": 6,
      "outputs": []
    },
    {
      "cell_type": "code",
      "source": [
        "rdd.take(5)"
      ],
      "metadata": {
        "colab": {
          "base_uri": "https://localhost:8080/"
        },
        "id": "gDtvs6wtkn1L",
        "outputId": "18cf5537-80e0-45c3-fd5a-aededbb1b477"
      },
      "execution_count": 7,
      "outputs": [
        {
          "output_type": "execute_result",
          "data": {
            "text/plain": [
              "['2070,house,house,120000,3,0,0,0,0,None,None',\n",
              " '2321,house,house,530000,4,1,0,1,0,None,1972',\n",
              " '9000,house,house,568000,3,0,1,0,0,None,2021',\n",
              " '2560,house,house,576000,3,1,1,1,0,None,1983',\n",
              " '8400,house,house,569000,4,0,0,1,0,good,1991']"
            ]
          },
          "metadata": {},
          "execution_count": 7
        }
      ]
    },
    {
      "cell_type": "code",
      "source": [
        "data_rdd = rdd.map(lambda row: row.split(\",\"))"
      ],
      "metadata": {
        "id": "2lJuhfN6kqQw"
      },
      "execution_count": 8,
      "outputs": []
    },
    {
      "cell_type": "code",
      "source": [
        "data_rdd.take(5)"
      ],
      "metadata": {
        "colab": {
          "base_uri": "https://localhost:8080/"
        },
        "id": "bXYtINT2k6Xi",
        "outputId": "79a0b1ea-07f8-4d63-f1bd-69ec3128aba9"
      },
      "execution_count": 9,
      "outputs": [
        {
          "output_type": "execute_result",
          "data": {
            "text/plain": [
              "[['2070', 'house', 'house', '120000', '3', '0', '0', '0', '0', 'None', 'None'],\n",
              " ['2321', 'house', 'house', '530000', '4', '1', '0', '1', '0', 'None', '1972'],\n",
              " ['9000', 'house', 'house', '568000', '3', '0', '1', '0', '0', 'None', '2021'],\n",
              " ['2560', 'house', 'house', '576000', '3', '1', '1', '1', '0', 'None', '1983'],\n",
              " ['8400', 'house', 'house', '569000', '4', '0', '0', '1', '0', 'good', '1991']]"
            ]
          },
          "metadata": {},
          "execution_count": 9
        }
      ]
    },
    {
      "cell_type": "markdown",
      "source": [
        "### 13. Retrieve all prices of all Renovated houses"
      ],
      "metadata": {
        "id": "Xgh4oLHbqk7F"
      }
    },
    {
      "cell_type": "code",
      "source": [
        "renovated_houses = data_rdd.filter(lambda row: row[9] is not None and row[9].strip().lower() == \"just renovated\").map(lambda row: ((row[0], row[1], row[2]), row[3]))\n"
      ],
      "metadata": {
        "id": "H5JbzvJNk8Yb"
      },
      "execution_count": 10,
      "outputs": []
    },
    {
      "cell_type": "code",
      "source": [
        "renovated_houses.count()\n"
      ],
      "metadata": {
        "colab": {
          "base_uri": "https://localhost:8080/"
        },
        "id": "s0MCpsS3mynw",
        "outputId": "36502c02-cefa-4412-8f4e-d4dc966c3ff4"
      },
      "execution_count": 11,
      "outputs": [
        {
          "output_type": "execute_result",
          "data": {
            "text/plain": [
              "2550"
            ]
          },
          "metadata": {},
          "execution_count": 11
        }
      ]
    },
    {
      "cell_type": "code",
      "source": [
        "renovated_houses.take(10)\n"
      ],
      "metadata": {
        "colab": {
          "base_uri": "https://localhost:8080/"
        },
        "id": "F2CqaSzCoNjl",
        "outputId": "d5a2b217-afe0-4481-d0a3-d60df84552a0"
      },
      "execution_count": 12,
      "outputs": [
        {
          "output_type": "execute_result",
          "data": {
            "text/plain": [
              "[(('9690', 'house', 'mixed use building'), '630000'),\n",
              " (('9404', 'house', 'house'), '670000'),\n",
              " (('8840', 'house', 'villa'), '750000'),\n",
              " (('4430', 'apartment', 'apartment'), '189000'),\n",
              " (('2600', 'apartment', 'duplex'), '495000'),\n",
              " (('1190', 'apartment', 'penthouse'), '630000'),\n",
              " (('6220', 'house', 'house'), '105000'),\n",
              " (('6769', 'house', 'house'), '186000'),\n",
              " (('2800', 'house', 'house'), '269000'),\n",
              " (('7534', 'house', 'house'), '269000')]"
            ]
          },
          "metadata": {},
          "execution_count": 12
        }
      ]
    },
    {
      "cell_type": "code",
      "source": [
        "renovated_houses.coalesce(1).saveAsTextFile(\"/content/Prices_of_JustRenovated_houses.txt\")"
      ],
      "metadata": {
        "id": "jrpxf02gpmHE"
      },
      "execution_count": 14,
      "outputs": []
    },
    {
      "cell_type": "code",
      "source": [
        "renovated_houses.saveAsTextFile(\"/content/Prices_of_All_Renovated_houses.txt\")"
      ],
      "metadata": {
        "id": "xfUJWTlorXwO"
      },
      "execution_count": 13,
      "outputs": []
    },
    {
      "cell_type": "code",
      "source": [],
      "metadata": {
        "id": "kHzs6Z2KpcIA"
      },
      "execution_count": null,
      "outputs": []
    }
  ]
}