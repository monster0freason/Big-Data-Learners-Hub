{
 "cells": [
  {
   "cell_type": "code",
   "execution_count": null,
   "id": "c4a5afcb-1af9-49c9-a3c5-c0f4d178bc7e",
   "metadata": {},
   "outputs": [],
   "source": [
    "import $ivy.`org.apache.spark:spark-sql_2.13:3.5.1`\n",
    "import org.apache.spark.sql.SparkSession\n",
    "import org.apache.spark.sql.types._\n",
    "import org.apache.spark.sql.functions._\n",
    "\n",
    "val spark = SparkSession.builder()\n",
    "  .appName(\"Ques14\")\n",
    "  .master(\"local[*]\")  // Use all cores\n",
    "  .getOrCreate()\n",
    "\n",
    "// Create a DataFrame from a sequence of data\n",
    "import spark.implicits._\n",
    "\n",
    "val schema = StructType(Seq(\n",
    "    StructField(\"locality\", IntegerType, true),\n",
    "    StructField(\"type_of_property\", StringType, true),\n",
    "    StructField(\"subtype_of_property\", StringType, true),\n",
    "    StructField(\"price\", IntegerType, true),\n",
    "    StructField(\"no_of_rooms\", IntegerType, true),\n",
    "    StructField(\"open_fire\", IntegerType, true),\n",
    "    StructField(\"terrace\", IntegerType, true),\n",
    "    StructField(\"garden\", IntegerType, true),\n",
    "    StructField(\"swimming_pool\", IntegerType, true),\n",
    "    StructField(\"state_of_building\", StringType, true),\n",
    "    StructField(\"construction_year\", IntegerType, true)\n",
    "))\n",
    "\n",
    "val haDF = spark.read.option(\"header\",\"false\").schema(schema).csv(\"house_apartment_cleaned_data.csv\")\n",
    "val filter_df = haDF.filter($\"type_of_property\" === \"house\")\n",
    "val group_df = filter_df.groupBy(\"subtype_of_property\", \"construction_year\").agg(sum(\"price\").alias(\"total_price\"))\n",
    "val pivot = group_df.groupBy(\"subtype_of_property\").pivot(\"construction_year\", Seq(1990, 2020)).agg(first(\"total_price\"))\n",
    "val pivot_df = pivot.na.fill(Map(\"1990\" -> 0, \"2020\" -> 0))\n",
    "val final_df = pivot_df.withColumn(\"price_difference\", abs(col(\"2020\") - col(\"1990\")))\n",
    "final_df.show()\n",
    "final_df.rdd.getNumPartitions\n",
    "final_df.write.option(\"header\",\"true\").csv(\"./Que__10\")"
   ]
  }
 ],
 "metadata": {
  "kernelspec": {
   "display_name": "Scala",
   "language": "scala",
   "name": "scala"
  },
  "language_info": {
   "codemirror_mode": "text/x-scala",
   "file_extension": ".sc",
   "mimetype": "text/x-scala",
   "name": "scala",
   "nbconvert_exporter": "script",
   "version": "2.13.16"
  }
 },
 "nbformat": 4,
 "nbformat_minor": 5
}
