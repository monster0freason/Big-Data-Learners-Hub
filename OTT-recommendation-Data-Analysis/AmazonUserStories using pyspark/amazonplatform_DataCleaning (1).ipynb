{
 "cells": [
  {
   "cell_type": "markdown",
   "id": "61baa161-d4ae-49b2-b523-9fe0329b2c6b",
   "metadata": {},
   "source": [
    "<h1>Imports for Amazon Dataset Cleaning</h1>"
   ]
  },
  {
   "cell_type": "code",
   "execution_count": 1,
   "id": "60bfda40-ce05-404e-a4d9-e4527902b9de",
   "metadata": {},
   "outputs": [],
   "source": [
    "from pyspark.sql import SparkSession\n",
    "from pyspark.sql.functions import regexp_extract, col, lower, when\n",
    "from pyspark.sql.types import IntegerType"
   ]
  },
  {
   "cell_type": "markdown",
   "id": "9dd4cc4c-4422-42a8-9fba-aac8c7fa8d28",
   "metadata": {},
   "source": [
    "<h1>Initialize SparkSession</h1>"
   ]
  },
  {
   "cell_type": "code",
   "execution_count": 2,
   "id": "a3071ce4-fd39-4418-946e-a4b669412341",
   "metadata": {},
   "outputs": [],
   "source": [
    "spark = SparkSession.builder.appName(\"AmazonDataCleaning\").getOrCreate()"
   ]
  },
  {
   "cell_type": "markdown",
   "id": "9ba0d5d4-e9b2-4e99-a6ab-deb652bf8abb",
   "metadata": {},
   "source": [
    "<h1>Load the Dataset</h1>"
   ]
  },
  {
   "cell_type": "code",
   "execution_count": 3,
   "id": "a5bbfe21-3f8a-4853-9946-db6bbf34bd55",
   "metadata": {},
   "outputs": [
    {
     "name": "stdout",
     "output_type": "stream",
     "text": [
      "Dataset Schema\n",
      "root\n",
      " |-- Movie Name: string (nullable = true)\n",
      " |-- Language: string (nullable = true)\n",
      " |-- IMDb Rating: string (nullable = true)\n",
      " |-- Running Time: string (nullable = true)\n",
      " |-- Year of Release: string (nullable = true)\n",
      " |-- Maturity Rating: string (nullable = true)\n",
      " |-- Plot: string (nullable = true)\n",
      "\n"
     ]
    }
   ],
   "source": [
    "df = spark.read.csv(\"amazon prime movies.csv\",\n",
    "                    header = True, \n",
    "                    inferSchema = True,\n",
    "                    escape = \",\",\n",
    "                   mode = \"PERMISSIVE\")\n",
    "print(\"Dataset Schema\")\n",
    "df.printSchema()"
   ]
  },
  {
   "cell_type": "markdown",
   "id": "cfa3fbf9-cd8a-4ef3-948d-0402cb0eb292",
   "metadata": {},
   "source": [
    "<h1><b>----- Data Cleaning -------</b></h1>"
   ]
  },
  {
   "cell_type": "markdown",
   "id": "0fb8ff03-84ed-475d-8d7f-d604881164e6",
   "metadata": {},
   "source": [
    "<h1>Renaming the Columns</h1>"
   ]
  },
  {
   "cell_type": "code",
   "execution_count": 4,
   "id": "42833fb3-5652-48b4-8ca4-b64b41efb2de",
   "metadata": {},
   "outputs": [],
   "source": [
    "for column in df.columns:\n",
    "    new_col = column.strip().lower().replace(\" \",\"_\")\n",
    "    df = df.withColumnRenamed(column, new_col)"
   ]
  },
  {
   "cell_type": "markdown",
   "id": "b6048da9-8dfe-4353-9d10-9b2b3a4e0d16",
   "metadata": {},
   "source": [
    "<h1>Converting running_time (hr and min) data into minutes</h1>"
   ]
  },
  {
   "cell_type": "code",
   "execution_count": 5,
   "id": "9aac283b-53b8-408b-b7e5-775a18fafb5d",
   "metadata": {},
   "outputs": [],
   "source": [
    "df = df.withColumn(\n",
    "    \"hours\",\n",
    "    when(\n",
    "        regexp_extract(col(\"running_time\"), r\"(\\d+)\\s*h\", 1) !=\"\",\n",
    "        regexp_extract(col(\"running_time\"), r\"(\\d+)\\s*h\", 1).cast(IntegerType())\n",
    "    ).otherwise(0)\n",
    ")\n",
    "df = df.withColumn(\n",
    "    \"minutes\", \n",
    "    when(\n",
    "        regexp_extract(col(\"running_time\"), r\"(\\d+)\\s*min\", 1) !=\"\",\n",
    "        regexp_extract(col(\"running_time\"), r\"(\\d+)\\s*min\", 1).cast(IntegerType())\n",
    "    ).otherwise(0)\n",
    ")\n",
    "df = df.withColumn(\"total_running_time_minutes\",(col(\"hours\")*60+col(\"minutes\")))\n",
    "df = df.drop(\"hours\")\n",
    "df = df.drop(\"minutes\")\n",
    "df = df.drop(\"plot\")\n",
    "df = df.drop(\"running_time\")"
   ]
  },
  {
   "cell_type": "markdown",
   "id": "18b55006-329a-470a-87d7-38db155efce8",
   "metadata": {},
   "source": [
    "<h1>Replacing None values of imdb_rating with 0</h1>"
   ]
  },
  {
   "cell_type": "code",
   "execution_count": 6,
   "id": "7702a501-a50a-42a7-8fd3-9856108caea2",
   "metadata": {},
   "outputs": [
    {
     "name": "stdout",
     "output_type": "stream",
     "text": [
      "+--------------------+--------+-----------+---------------+---------------+--------------------------+\n",
      "|          movie_name|language|imdb_rating|year_of_release|maturity_rating|total_running_time_minutes|\n",
      "+--------------------+--------+-----------+---------------+---------------+--------------------------+\n",
      "|          John Rambo|   Tamil|          7|           2008|            18+|                        86|\n",
      "|        American Pie| English|          7|           1999|            18+|                        95|\n",
      "|           Bombshell| English|        6.8|           2019|            18+|                       108|\n",
      "|          Love Birds|   Tamil|        5.1|           1996|            All|                       160|\n",
      "|               Hippi|  Telugu|          5|           2019|            18+|                       140|\n",
      "|Honey Bunny As Su...|   Tamil|       None|           2018|             7+|                        49|\n",
      "|               Ayyaa|   Tamil|        5.7|           2005|            All|                       159|\n",
      "|       Mukhya Mantri| Bengali|       None|           1996|             NR|                       117|\n",
      "|   Gandhi Fer Aa Gea| Punjabi|        4.9|           2020|            13+|                       133|\n",
      "|      Premada Vayasu| Kannada|          6|           1997|             NR|                       116|\n",
      "|Tum Se Achcha Kau...|   Hindi|        4.5|           2002|            All|                       141|\n",
      "|               Swamy| Kannada|          6|           2005|            All|                       154|\n",
      "|Ekkees Tareekh Sh...|   Hindi|        5.7|           2018|            All|                        93|\n",
      "|Sealers: One Last...| English|        7.7|           2020|            13+|                        56|\n",
      "|     Lonavala Bypass| Marathi|       None|           2009|            13+|                       106|\n",
      "|     Project Almanac| English|        6.4|           2015|            13+|                       106|\n",
      "|         Nanna Prema|  Telugu|       None|           2019|            13+|                       143|\n",
      "|       Ghost Stories| English|        6.4|           2018|            18+|                        93|\n",
      "|    Basthi Mey Saval|  Telugu|       None|           2002|             NR|                       109|\n",
      "|Jaani Dushman: Ek...|   Hindi|        2.8|           2002|            13+|                       152|\n",
      "+--------------------+--------+-----------+---------------+---------------+--------------------------+\n",
      "only showing top 20 rows\n"
     ]
    }
   ],
   "source": [
    "df.show()"
   ]
  },
  {
   "cell_type": "code",
   "execution_count": 7,
   "id": "d36490db-78b8-456a-bd6f-25f84cebdac6",
   "metadata": {},
   "outputs": [],
   "source": [
    "df = df.withColumn(\n",
    "    \"imdb_ratings\",\n",
    "    when((col(\"imdb_rating\")=='None')|(col(\"imdb_rating\")==''),None\n",
    "    ).otherwise(col(\"imdb_rating\"))\n",
    ")\n"
   ]
  },
  {
   "cell_type": "code",
   "execution_count": 8,
   "id": "b46b13ca-83cc-4317-b686-c7cf2d27abcd",
   "metadata": {},
   "outputs": [],
   "source": [
    "df = df.na.fill('0')\n",
    "df = df.drop(\"imdb_rating\")\n"
   ]
  },
  {
   "cell_type": "code",
   "execution_count": 9,
   "id": "54d8fab5-4b6a-4adc-b24e-df26e0759770",
   "metadata": {},
   "outputs": [
    {
     "name": "stdout",
     "output_type": "stream",
     "text": [
      "Revised Schema\n",
      "root\n",
      " |-- movie_name: string (nullable = false)\n",
      " |-- language: string (nullable = false)\n",
      " |-- year_of_release: string (nullable = false)\n",
      " |-- maturity_rating: string (nullable = false)\n",
      " |-- total_running_time_minutes: integer (nullable = true)\n",
      " |-- imdb_ratings: string (nullable = false)\n",
      "\n"
     ]
    }
   ],
   "source": [
    "print(\"Revised Schema\")\n",
    "df.printSchema()"
   ]
  },
  {
   "cell_type": "code",
   "execution_count": 10,
   "id": "9e66d7bc-ef9a-406e-b698-dccff21af11f",
   "metadata": {},
   "outputs": [
    {
     "name": "stdout",
     "output_type": "stream",
     "text": [
      "+--------------------+--------+---------------+---------------+--------------------------+------------+\n",
      "|          movie_name|language|year_of_release|maturity_rating|total_running_time_minutes|imdb_ratings|\n",
      "+--------------------+--------+---------------+---------------+--------------------------+------------+\n",
      "|          John Rambo|   Tamil|           2008|            18+|                        86|           7|\n",
      "|        American Pie| English|           1999|            18+|                        95|           7|\n",
      "|           Bombshell| English|           2019|            18+|                       108|         6.8|\n",
      "|          Love Birds|   Tamil|           1996|            All|                       160|         5.1|\n",
      "|               Hippi|  Telugu|           2019|            18+|                       140|           5|\n",
      "|Honey Bunny As Su...|   Tamil|           2018|             7+|                        49|           0|\n",
      "|               Ayyaa|   Tamil|           2005|            All|                       159|         5.7|\n",
      "|       Mukhya Mantri| Bengali|           1996|             NR|                       117|           0|\n",
      "|   Gandhi Fer Aa Gea| Punjabi|           2020|            13+|                       133|         4.9|\n",
      "|      Premada Vayasu| Kannada|           1997|             NR|                       116|           6|\n",
      "|Tum Se Achcha Kau...|   Hindi|           2002|            All|                       141|         4.5|\n",
      "|               Swamy| Kannada|           2005|            All|                       154|           6|\n",
      "|Ekkees Tareekh Sh...|   Hindi|           2018|            All|                        93|         5.7|\n",
      "|Sealers: One Last...| English|           2020|            13+|                        56|         7.7|\n",
      "|     Lonavala Bypass| Marathi|           2009|            13+|                       106|           0|\n",
      "|     Project Almanac| English|           2015|            13+|                       106|         6.4|\n",
      "|         Nanna Prema|  Telugu|           2019|            13+|                       143|           0|\n",
      "|       Ghost Stories| English|           2018|            18+|                        93|         6.4|\n",
      "|    Basthi Mey Saval|  Telugu|           2002|             NR|                       109|           0|\n",
      "|Jaani Dushman: Ek...|   Hindi|           2002|            13+|                       152|         2.8|\n",
      "+--------------------+--------+---------------+---------------+--------------------------+------------+\n",
      "only showing top 20 rows\n"
     ]
    }
   ],
   "source": [
    "df.show()"
   ]
  },
  {
   "cell_type": "code",
   "execution_count": 11,
   "id": "94b52640-c093-4fbb-bfc5-bdb03998e20b",
   "metadata": {},
   "outputs": [],
   "source": [
    "df.write.mode(\"overwrite\").csv(\"C:/Users/jayshgup/Downloads/OTT RECOMNDATION DATA ANALYTICS/amazonDatasetCleaning\", header=True)"
   ]
  },
  {
   "cell_type": "code",
   "execution_count": null,
   "id": "2cec81d0-a856-4814-a6bc-638bf9e2721c",
   "metadata": {},
   "outputs": [],
   "source": []
  }
 ],
 "metadata": {
  "kernelspec": {
   "display_name": "Python 3 (ipykernel)",
   "language": "python",
   "name": "python3"
  },
  "language_info": {
   "codemirror_mode": {
    "name": "ipython",
    "version": 3
   },
   "file_extension": ".py",
   "mimetype": "text/x-python",
   "name": "python",
   "nbconvert_exporter": "python",
   "pygments_lexer": "ipython3",
   "version": "3.10.0"
  }
 },
 "nbformat": 4,
 "nbformat_minor": 5
}
