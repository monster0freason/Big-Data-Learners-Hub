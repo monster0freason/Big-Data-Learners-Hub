{
 "cells": [
  {
   "attachments": {},
   "cell_type": "markdown",
   "id": "09b21baf-aff3-46c5-9c38-c4121466b20a",
   "metadata": {},
   "source": [
    "<h1>1) Review the movie names and languages names in the year of 2019.</h1>"
   ]
  },
  {
   "cell_type": "code",
   "execution_count": 2,
   "id": "2f83e3f6-933e-441b-bfdf-f142608144e2",
   "metadata": {},
   "outputs": [
    {
     "name": "stdout",
     "output_type": "stream",
     "text": [
      "+--------------------+--------+\n",
      "|          movie_name|language|\n",
      "+--------------------+--------+\n",
      "|           Bombshell| English|\n",
      "|               Hippi|  Telugu|\n",
      "|         Nanna Prema|  Telugu|\n",
      "|    City of football| Bengali|\n",
      "|Eye To Eye With E...| English|\n",
      "|Kanhaiya Ek Yodha...|   Hindi|\n",
      "|            Yajamana| Kannada|\n",
      "|              Kharij| Bengali|\n",
      "|Dash Mash Dash Di...| Bengali|\n",
      "|Bodhai Yeri Budhi...|   Tamil|\n",
      "|Manikarnika: The ...|   Tamil|\n",
      "|     The Cabin Guard| Bengali|\n",
      "|Sharkwater Extinc...| English|\n",
      "|Zombieland: Doubl...|  Telugu|\n",
      "|Invisible Wildlif...| English|\n",
      "|Letters From Gene...| English|\n",
      "|Captain Monsteric...| English|\n",
      "|            Doorbeen| Punjabi|\n",
      "|YASHKA, BATTALION...| English|\n",
      "|Mongolia - In The...| English|\n",
      "+--------------------+--------+\n",
      "only showing top 20 rows\n"
     ]
    },
    {
     "data": {
      "text/plain": [
       "691"
      ]
     },
     "execution_count": 2,
     "metadata": {},
     "output_type": "execute_result"
    }
   ],
   "source": [
    "from pyspark.sql import SparkSession\n",
    "from pyspark.sql.types import DoubleType\n",
    "from pyspark.sql.functions import col, when, countDistinct, collect_list\n",
    "spark = SparkSession.builder.appName(\"AmazonAnalysis\").getOrCreate()\n",
    "amazon_prime_movies_df = spark.read.csv(\"amazon_cleaned_data.csv\", header=True, inferSchema=True)\n",
    "\n",
    "movies_2019_df = amazon_prime_movies_df.filter(col(\"year_of_release\") == '2019').select(\"movie_name\", \"language\")\n",
    "\n",
    "movies_2019_df.show()\n",
    "movies_2019_df.count()\n"
   ]
  },
  {
   "attachments": {},
   "cell_type": "markdown",
   "id": "4edf2817-9575-4498-95f1-639c4bfff1f0",
   "metadata": {},
   "source": [
    "<h1>2) Which are the languages, movies highly watched by people of all ages? And in this scenrio, give the movie names of that language.</h1>"
   ]
  },
  {
   "cell_type": "code",
   "execution_count": 3,
   "id": "3b3f576d-b2e8-4d75-81c1-9d3ae96937b4",
   "metadata": {},
   "outputs": [
    {
     "name": "stdout",
     "output_type": "stream",
     "text": [
      "Most common language for 'All' rated movies: Hindi\n",
      "+-------------------------------+\n",
      "|movie_name                     |\n",
      "+-------------------------------+\n",
      "|Tum Se Achcha Kaun Hai         |\n",
      "|Ekkees Tareekh Shubh Muhurat   |\n",
      "|Devdas                         |\n",
      "|Ramgarh Ke Sholay              |\n",
      "|Mere Yaar Ki Shaadi Hai        |\n",
      "|Swarg                          |\n",
      "|Jeevan Ek Sanghursh            |\n",
      "|Khuli Khidki - Pratibha Sharma |\n",
      "|Love 86                        |\n",
      "|Jagriti                        |\n",
      "|Chhota Bheem - Romani Adventure|\n",
      "|Ek Phool Do Mali               |\n",
      "|Agnipankh                      |\n",
      "|The Peanut Seller              |\n",
      "|Chitchor                       |\n",
      "|Kanoon                         |\n",
      "|Srinivasa Kalyanam             |\n",
      "|Bobby Jasoos                   |\n",
      "|Prem Ratan Dhan Payo           |\n",
      "|Kuch Tum Kaho Kuch Hum Kahein  |\n",
      "+-------------------------------+\n",
      "only showing top 20 rows\n"
     ]
    }
   ],
   "source": [
    "from pyspark.sql.functions import trim\n",
    "# Filter movies with 'All' maturity rating\n",
    "all_ages_df = amazon_prime_movies_df.filter(trim(col(\"maturity_rating\")) == \"All\")\n",
    "\n",
    "# Count movies by language\n",
    "language_counts = all_ages_df.groupBy(\"language\").count()\n",
    "\n",
    "# Find the language with the highest count\n",
    "top_language = language_counts.orderBy(col(\"count\").desc()).first()[\"language\"]\n",
    "\n",
    "# Get movie names in that language with 'All' rating\n",
    "top_language_movies = all_ages_df.filter(col(\"language\") == top_language).select(\"movie_name\")\n",
    "\n",
    "# Show results\n",
    "print(f\"Most common language for 'All' rated movies: {top_language}\")\n",
    "top_language_movies.show(truncate=False)\n"
   ]
  },
  {
   "attachments": {},
   "cell_type": "markdown",
   "id": "706da254-a72d-46f1-8d0d-c62f9d8e0e1c",
   "metadata": {},
   "source": [
    "<h1>3) Which age group (maturity rating) is watching hindi movies? also, the movie titles.</h1>"
   ]
  },
  {
   "cell_type": "code",
   "execution_count": 4,
   "id": "b75afd82-481e-47c8-811f-eda54b1740da",
   "metadata": {},
   "outputs": [
    {
     "name": "stdout",
     "output_type": "stream",
     "text": [
      "+---------------+--------------------+\n",
      "|maturity_rating|          movie_name|\n",
      "+---------------+--------------------+\n",
      "|            All|            Xcuse Me|\n",
      "|            13+|                 Dus|\n",
      "|            13+|              Pinjar|\n",
      "|             NR|   Ek Din Aadhi Raat|\n",
      "|             NR|            Bezubaan|\n",
      "|            All|            Notebook|\n",
      "|            All|       Green Lantern|\n",
      "|            All|              Kanoon|\n",
      "|            All|               Alaap|\n",
      "|            All|Chhota Bheem Vs Z...|\n",
      "|            All|Chhota Bheem Aur ...|\n",
      "|             NR|That Man In The P...|\n",
      "|            18+|       Chudail Story|\n",
      "|            All|           Parasmani|\n",
      "|            18+|               Aatma|\n",
      "|             NR|             Sabrang|\n",
      "|             7+|     Despicable Me 2|\n",
      "|            18+| No Strings Attached|\n",
      "|             NR|              Sanjog|\n",
      "|             NR|          Nai Roshni|\n",
      "+---------------+--------------------+\n",
      "only showing top 20 rows\n"
     ]
    }
   ],
   "source": [
    "\n",
    "# Filter for Hindi movies\n",
    "hindi_movies = amazon_prime_movies_df.filter(col(\"language\") == \"Hindi\")\n",
    "\n",
    "# Select distinct age groups and movie titles\n",
    "result = hindi_movies.select(\"maturity_rating\", \"movie_name\").distinct()\n",
    "\n",
    "# Show the result\n",
    "result.show()\n",
    "\n"
   ]
  },
  {
   "attachments": {},
   "cell_type": "markdown",
   "id": "b078fe5c-bd72-4c01-8cce-40cc1723aa47",
   "metadata": {},
   "source": [
    "<h1>4) Which movie has the highest running duration and in which year?</h1>"
   ]
  },
  {
   "cell_type": "code",
   "execution_count": 5,
   "id": "371b411a-a791-4dc7-acfe-0db8f90c64f1",
   "metadata": {},
   "outputs": [
    {
     "name": "stdout",
     "output_type": "stream",
     "text": [
      "+--------------------+---------------+--------------------------+\n",
      "|          movie_name|year_of_release|total_running_time_minutes|\n",
      "+--------------------+---------------+--------------------------+\n",
      "|Once Upon a Time ...|           1984|                       229|\n",
      "+--------------------+---------------+--------------------------+\n",
      "\n"
     ]
    }
   ],
   "source": [
    "from pyspark.sql.functions import max, col\n",
    "\n",
    "max_duration = amazon_prime_movies_df.agg(max(\"total_running_time_minutes\").alias(\"max_duration\")).collect()[0][\"max_duration\"]\n",
    "\n",
    "# Filter the movie(s) with the maximum duration\n",
    "longest_movie_df = amazon_prime_movies_df.filter(col(\"total_running_time_minutes\") == max_duration)\n",
    "\n",
    "# Show the result\n",
    "longest_movie_df.select(\"movie_name\", \"year_of_release\", \"total_running_time_minutes\").show()\n",
    "\n"
   ]
  },
  {
   "attachments": {},
   "cell_type": "markdown",
   "id": "9801f131-017a-4074-885c-1d16488209f8",
   "metadata": {},
   "source": [
    "<h1>5) And review the total number of movie ratings by language wise, and what are the movies that are high maturity rating?</h1>"
   ]
  },
  {
   "cell_type": "code",
   "execution_count": 6,
   "id": "be8fed73-35b0-4c89-87b2-78ee85743d19",
   "metadata": {},
   "outputs": [
    {
     "name": "stdout",
     "output_type": "stream",
     "text": [
      "+---------+-------------+\n",
      "| language|total_ratings|\n",
      "+---------+-------------+\n",
      "|  Kannada|          394|\n",
      "| Gujarati|          104|\n",
      "|   Telugu|          928|\n",
      "|  English|         1583|\n",
      "|  Marathi|          317|\n",
      "|    Tamil|          661|\n",
      "|  Bengali|         1124|\n",
      "|    Hindi|         1827|\n",
      "|  Punjabi|          121|\n",
      "|Malayalam|          482|\n",
      "+---------+-------------+\n",
      "\n",
      "+--------------------+---------------+\n",
      "|          movie_name|maturity_rating|\n",
      "+--------------------+---------------+\n",
      "|          John Rambo|            18+|\n",
      "|        American Pie|            18+|\n",
      "|           Bombshell|            18+|\n",
      "|          Love Birds|            All|\n",
      "|               Hippi|            18+|\n",
      "|               Ayyaa|            All|\n",
      "|Tum Se Achcha Kau...|            All|\n",
      "|               Swamy|            All|\n",
      "|Ekkees Tareekh Sh...|            All|\n",
      "|       Ghost Stories|            18+|\n",
      "|              Devdas|            All|\n",
      "|        Akashadoothu|            All|\n",
      "|  Mera Pind: My Home|            All|\n",
      "|300: Rise of an E...|            18+|\n",
      "|           Nana Mama|            All|\n",
      "|Hutututu Aavi Ram...|            All|\n",
      "|             Uss Din|            18+|\n",
      "|          Open Water|            18+|\n",
      "|      Jhankaar Beats|            18+|\n",
      "| Law Abiding Citizen|            18+|\n",
      "+--------------------+---------------+\n",
      "only showing top 20 rows\n"
     ]
    }
   ],
   "source": [
    "\n",
    "from pyspark.sql.functions import countDistinct, desc, count\n",
    "# Total number of movie ratings by language\n",
    "ratings_by_language = amazon_prime_movies_df.groupBy(\"language\").agg(count(\"maturity_rating\").alias(\"total_ratings\"))\n",
    "ratings_by_language.show()\n",
    "\n",
    "# Movies with high maturity rating (assuming \"R\" and \"NC-17\" are high maturity)\n",
    "high_maturity_movies = amazon_prime_movies_df.filter(col(\"maturity_rating\").isin(\"All\", \"18+\")).select(\"movie_name\", \"maturity_rating\")\n",
    "high_maturity_movies.show()\n",
    "\n"
   ]
  },
  {
   "cell_type": "code",
   "execution_count": null,
   "id": "92b8408b-6fab-4ec4-96ae-ddad06d13524",
   "metadata": {},
   "outputs": [],
   "source": []
  }
 ],
 "metadata": {
  "kernelspec": {
   "display_name": "Python 3 (ipykernel)",
   "language": "python",
   "name": "python3"
  },
  "language_info": {
   "codemirror_mode": {
    "name": "ipython",
    "version": 3
   },
   "file_extension": ".py",
   "mimetype": "text/x-python",
   "name": "python",
   "nbconvert_exporter": "python",
   "pygments_lexer": "ipython3",
   "version": "3.10.0"
  }
 },
 "nbformat": 4,
 "nbformat_minor": 5
}
