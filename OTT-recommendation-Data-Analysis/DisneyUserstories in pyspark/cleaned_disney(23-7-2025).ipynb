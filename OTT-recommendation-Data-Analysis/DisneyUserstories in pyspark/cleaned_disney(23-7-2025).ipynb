{
 "cells": [
  {
   "cell_type": "code",
   "execution_count": 1,
   "id": "46100806-abf0-412c-9caf-363c149ac3d8",
   "metadata": {},
   "outputs": [],
   "source": [
    "import findspark\n",
    "findspark.init()\n",
    "from pyspark.sql import SparkSession\n",
    "\n",
    "spark = SparkSession.builder.appName(\"disney\").getOrCreate()"
   ]
  },
  {
   "cell_type": "markdown",
   "id": "3629c01f-2457-4d4a-a0c7-2dce7288db6b",
   "metadata": {},
   "source": [
    "<h1>IMPORT DISNEY FILE </h1>"
   ]
  },
  {
   "cell_type": "code",
   "execution_count": 2,
   "id": "d8bc4067-21a1-4222-b3d8-cdb9b448f202",
   "metadata": {},
   "outputs": [],
   "source": [
    "desdf = spark.read.option(\"header\",\"true\") \\\n",
    ".option(\"quote\",'\"') \\\n",
    ".option(\"escape\",\"\\\\\") \\\n",
    ".option(\"multiLine\",\"true\")\\\n",
    ".option(\"mode\",\"PERMISSIVE\")\\\n",
    ".csv(\"disney_plus_shows.csv\")"
   ]
  },
  {
   "cell_type": "code",
   "execution_count": 3,
   "id": "1c89b8c7-fdd6-4426-a051-0ec435c4f17e",
   "metadata": {},
   "outputs": [
    {
     "name": "stdout",
     "output_type": "stream",
     "text": [
      "+----------+------------------------------------------+----+------+---------+-----+-----------+-----------------+-------+---------------------------------------------------------------+-----------------------------------------------+----+----+----------------+------------------------------+-------------------------------------------------------------+---------+-----------+----------+\n",
      "|imdb_id   |title                                     |_c2 |type  |rated    |year |released_at|added_at         |runtime|genre                                                          |director                                       |_c11|_c12|language        |country                       |awards                                                       |metascore|imdb_rating|imdb_votes|\n",
      "+----------+------------------------------------------+----+------+---------+-----+-----------+-----------------+-------+---------------------------------------------------------------+-----------------------------------------------+----+----+----------------+------------------------------+-------------------------------------------------------------+---------+-----------+----------+\n",
      "|tt0147800 |10 Things I Hate About You                |null|movie |PG-13    |1999 |31-Mar-99  |November 12, 2019|97 min |Comedy, Drama, Romance                                         |Gil Junger                                     |null|null|English, French |USA                           |2 wins & 13 nominations.                                     |70       |7.3        |2,83,945  |\n",
      "|tt7019028 |101 Dalmatian Street                      |null|series|N/A      |2018–|25-Mar-19  |February 28, 2020|N/A    |Animation, Comedy, Family                                      |N/A                                            |null|null|English         |UK, USA, Canada               |N/A                                                          |N/A      |6.2        |124       |\n",
      "|tt0115433 |101 Dalmatians                            |null|movie |G        |1996 |27-Nov-96  |November 12, 2019|103 min|Adventure, Comedy, Crime, Family                               |Stephen Herek                                  |null|null|English, Spanish|USA, UK                       |Nominated for 1 Golden Globe. Another 3 wins & 9 nominations.|49       |5.7        |97,785    |\n",
      "|tt0324941 |101 Dalmatians 2: Patch's London Adventure|null|movie |G        |2002 |21-Jan-03  |November 12, 2019|74 min |Animation, Adventure, Comedy, Family, Musical                  |Jim Kammerud, Brian Smith                      |null|null|English         |USA                           |5 wins & 10 nominations.                                     |N/A      |5.8        |7,434     |\n",
      "|tt0211181 |102 Dalmatians                            |null|movie |G        |2000 |22-Nov-00  |November 12, 2019|100 min|Adventure, Comedy, Family                                      |Kevin Lima                                     |null|null|English         |USA, UK                       |Nominated for 1 Oscar. Another 1 win & 7 nominations.        |35       |4.9        |33,444    |\n",
      "|tt1846442 |12 Dates of Christmas                     |null|movie |PG       |2011 |11-Dec-11  |November 12, 2019|90 min |Comedy, Fantasy, Romance                                       |James Hayman                                   |null|null|English         |USA                           |1 nomination.                                                |N/A      |6.3        |4,933     |\n",
      "|tt0046672 |20,000 Leagues Under the Sea              |null|movie |G        |1954 |20-Jul-55  |November 12, 2019|127 min|Adventure, Drama, Family, Fantasy, Sci-Fi                      |Richard Fleischer                              |null|null|English         |USA                           |Won 2 Oscars. Another 3 wins & 3 nominations.                |83       |7.2        |27,761    |\n",
      "|tt0120623 |A Bug's Life                              |null|movie |G        |1998 |25-Nov-98  |November 12, 2019|95 min |Animation, Adventure, Comedy, Family                           |John Lasseter, Andrew Stanton(co-director)     |null|null|English         |USA                           |Nominated for 1 Oscar. Another 14 wins & 20 nominations.     |77       |7.2        |2,57,065  |\n",
      "|tt12076020|A Celebration of the Music from Coco      |null|movie |N/A      |2020 |10-Apr-20  |April 10, 2020   |N/A    |Music                                                          |Ron de Moraes                                  |null|null|English         |USA                           |N/A                                                          |N/A      |7.6        |35        |\n",
      "|tt0113198 |A Goofy Movie                             |null|movie |G        |1995 |07-Apr-95  |November 12, 2019|78 min |Animation, Adventure, Comedy, Family, Musical, Romance         |Kevin Lima                                     |null|null|English         |USA, Australia, France, Canada|5 nominations.                                               |N/A      |6.8        |43,655    |\n",
      "|tt0113538 |A Kid in King Arthur's Court              |null|movie |PG       |1995 |11-Aug-95  |November 12, 2019|89 min |Adventure, Comedy, Family, Fantasy, Romance                    |Michael Gottlieb                               |null|null|English         |USA, Hungary, UK              |1 nomination.                                                |34       |4.7        |5,479     |\n",
      "|tt0038674 |A Knight for a Day                        |null|movie |APPROVED |1946 |08-Mar-46  |November 12, 2019|7 min  |Animation, Short, Comedy                                       |Jack Hannah                                    |null|null|English         |USA                           |N/A                                                          |N/A      |7          |488       |\n",
      "|tt0282123 |A Ring of Endless Light                   |null|movie |TV-G     |2002 |23-Aug-02  |November 12, 2019|88 min |Drama, Family, Romance                                         |Greg Beeman                                    |null|null|English         |USA                           |2 wins & 1 nomination.                                       |N/A      |6.1        |1,042     |\n",
      "|tt0287003 |A Tale of Two Critters                    |null|movie |G        |1977 |22-Jun-77  |April 3, 2020    |48 min |Adventure, Family                                              |Jack Speirs                                    |null|null|English         |USA                           |N/A                                                          |N/A      |7.1        |59        |\n",
      "|tt1620680 |A Wrinkle in Time                         |null|movie |PG       |2018 |09-Mar-18  |March 25, 2020   |109 min|Adventure, Family, Fantasy, Sci-Fi                             |Ava DuVernay                                   |null|null|English         |USA                           |5 wins & 15 nominations.                                     |53       |4.2        |38,659    |\n",
      "|tt6139732 |Aladdin                                   |null|movie |PG       |2019 |24-May-19  |January 8, 2020  |128 min|Adventure, Family, Fantasy, Musical, Romance                   |Guy Ritchie                                    |null|null|English, Arabic |USA                           |7 wins & 32 nominations.                                     |53       |7          |2,04,537  |\n",
      "|tt0103639 |Aladdin                                   |null|movie |G        |1992 |25-Nov-92  |November 12, 2019|90 min |Animation, Adventure, Comedy, Family, Fantasy, Musical, Romance|Ron Clements, John Musker                      |null|null|English         |USA                           |Won 2 Oscars. Another 31 wins & 22 nominations.              |86       |8          |3,56,283  |\n",
      "|tt0115491 |Aladdin and the King of Thieves           |null|movie |Not Rated|1996 |13-Aug-96  |November 12, 2019|81 min |Animation, Adventure, Comedy, Family, Fantasy, Musical, Romance|Tad Stones                                     |null|null|English         |USA                           |2 wins & 1 nomination.                                       |N/A      |6.4        |31,603    |\n",
      "|tt0107952 |Aladdin and the Return of Jafar           |null|movie |G        |1994 |20-May-94  |November 12, 2019|69 min |Animation, Adventure, Comedy, Family, Fantasy, Musical, Romance|Toby Shelton, Tad Stones, Alan Zaslove         |null|null|English         |USA                           |1 nomination.                                                |N/A      |5.9        |25,623    |\n",
      "|tt0043274 |Alice in Wonderland                       |null|movie |G        |1951 |14-Sep-51  |November 12, 2019|75 min |Animation, Adventure, Family, Fantasy, Musical                 |Clyde Geronimi, Wilfred Jackson, Hamilton Luske|null|null|English         |USA                           |Nominated for 1 Oscar. Another 1 nomination.                 |68       |7.4        |1,23,377  |\n",
      "+----------+------------------------------------------+----+------+---------+-----+-----------+-----------------+-------+---------------------------------------------------------------+-----------------------------------------------+----+----+----------------+------------------------------+-------------------------------------------------------------+---------+-----------+----------+\n",
      "only showing top 20 rows\n",
      "\n"
     ]
    }
   ],
   "source": [
    "desdf.show(truncate=False)"
   ]
  },
  {
   "cell_type": "code",
   "execution_count": 4,
   "id": "62b3e510-1922-4b81-af31-b8c912607887",
   "metadata": {},
   "outputs": [
    {
     "name": "stdout",
     "output_type": "stream",
     "text": [
      "root\n",
      " |-- imdb_id: string (nullable = true)\n",
      " |-- title: string (nullable = true)\n",
      " |-- _c2: string (nullable = true)\n",
      " |-- type: string (nullable = true)\n",
      " |-- rated: string (nullable = true)\n",
      " |-- year: string (nullable = true)\n",
      " |-- released_at: string (nullable = true)\n",
      " |-- added_at: string (nullable = true)\n",
      " |-- runtime: string (nullable = true)\n",
      " |-- genre: string (nullable = true)\n",
      " |-- director: string (nullable = true)\n",
      " |-- _c11: string (nullable = true)\n",
      " |-- _c12: string (nullable = true)\n",
      " |-- language: string (nullable = true)\n",
      " |-- country: string (nullable = true)\n",
      " |-- awards: string (nullable = true)\n",
      " |-- metascore: string (nullable = true)\n",
      " |-- imdb_rating: string (nullable = true)\n",
      " |-- imdb_votes: string (nullable = true)\n",
      "\n"
     ]
    }
   ],
   "source": [
    "desdf.printSchema()"
   ]
  },
  {
   "cell_type": "code",
   "execution_count": 5,
   "id": "40e64884-f6a4-4cc8-aab3-de3edd096ae8",
   "metadata": {},
   "outputs": [],
   "source": [
    "desdf1 = desdf.drop(\"_c2\").drop(\"year\").drop(\"_c11\").drop(\"_c12\")"
   ]
  },
  {
   "cell_type": "code",
   "execution_count": 6,
   "id": "91f1f65e-c640-4eed-9b89-05f00180ee4f",
   "metadata": {},
   "outputs": [
    {
     "name": "stdout",
     "output_type": "stream",
     "text": [
      "root\n",
      " |-- imdb_id: string (nullable = true)\n",
      " |-- title: string (nullable = true)\n",
      " |-- type: string (nullable = true)\n",
      " |-- rated: string (nullable = true)\n",
      " |-- released_at: string (nullable = true)\n",
      " |-- added_at: string (nullable = true)\n",
      " |-- runtime: string (nullable = true)\n",
      " |-- genre: string (nullable = true)\n",
      " |-- director: string (nullable = true)\n",
      " |-- language: string (nullable = true)\n",
      " |-- country: string (nullable = true)\n",
      " |-- awards: string (nullable = true)\n",
      " |-- metascore: string (nullable = true)\n",
      " |-- imdb_rating: string (nullable = true)\n",
      " |-- imdb_votes: string (nullable = true)\n",
      "\n"
     ]
    }
   ],
   "source": [
    "desdf1.printSchema()"
   ]
  },
  {
   "cell_type": "code",
   "execution_count": 7,
   "id": "35e9fa9f-3bad-40ae-b11c-34ba0ab48b7b",
   "metadata": {},
   "outputs": [
    {
     "name": "stdout",
     "output_type": "stream",
     "text": [
      "+----------+--------------------+------+---------+-----------+-----------------+-------+--------------------+--------------------+----------------+--------------------+--------------------+---------+-----------+----------+\n",
      "|   imdb_id|               title|  type|    rated|released_at|         added_at|runtime|               genre|            director|        language|             country|              awards|metascore|imdb_rating|imdb_votes|\n",
      "+----------+--------------------+------+---------+-----------+-----------------+-------+--------------------+--------------------+----------------+--------------------+--------------------+---------+-----------+----------+\n",
      "| tt0147800|10 Things I Hate ...| movie|    PG-13|  31-Mar-99|November 12, 2019| 97 min|Comedy, Drama, Ro...|          Gil Junger| English, French|                 USA|2 wins & 13 nomin...|       70|        7.3|  2,83,945|\n",
      "| tt7019028|101 Dalmatian Street|series|      N/A|  25-Mar-19|February 28, 2020|    N/A|Animation, Comedy...|                 N/A|         English|     UK, USA, Canada|                 N/A|      N/A|        6.2|       124|\n",
      "| tt0115433|      101 Dalmatians| movie|        G|  27-Nov-96|November 12, 2019|103 min|Adventure, Comedy...|       Stephen Herek|English, Spanish|             USA, UK|Nominated for 1 G...|       49|        5.7|    97,785|\n",
      "| tt0324941|101 Dalmatians 2:...| movie|        G|  21-Jan-03|November 12, 2019| 74 min|Animation, Advent...|Jim Kammerud, Bri...|         English|                 USA|5 wins & 10 nomin...|      N/A|        5.8|     7,434|\n",
      "| tt0211181|      102 Dalmatians| movie|        G|  22-Nov-00|November 12, 2019|100 min|Adventure, Comedy...|          Kevin Lima|         English|             USA, UK|Nominated for 1 O...|       35|        4.9|    33,444|\n",
      "| tt1846442|12 Dates of Chris...| movie|       PG|  11-Dec-11|November 12, 2019| 90 min|Comedy, Fantasy, ...|        James Hayman|         English|                 USA|       1 nomination.|      N/A|        6.3|     4,933|\n",
      "| tt0046672|20,000 Leagues Un...| movie|        G|  20-Jul-55|November 12, 2019|127 min|Adventure, Drama,...|   Richard Fleischer|         English|                 USA|Won 2 Oscars. Ano...|       83|        7.2|    27,761|\n",
      "| tt0120623|        A Bug's Life| movie|        G|  25-Nov-98|November 12, 2019| 95 min|Animation, Advent...|John Lasseter, An...|         English|                 USA|Nominated for 1 O...|       77|        7.2|  2,57,065|\n",
      "|tt12076020|A Celebration of ...| movie|      N/A|  10-Apr-20|   April 10, 2020|    N/A|               Music|       Ron de Moraes|         English|                 USA|                 N/A|      N/A|        7.6|        35|\n",
      "| tt0113198|       A Goofy Movie| movie|        G|  07-Apr-95|November 12, 2019| 78 min|Animation, Advent...|          Kevin Lima|         English|USA, Australia, F...|      5 nominations.|      N/A|        6.8|    43,655|\n",
      "| tt0113538|A Kid in King Art...| movie|       PG|  11-Aug-95|November 12, 2019| 89 min|Adventure, Comedy...|    Michael Gottlieb|         English|    USA, Hungary, UK|       1 nomination.|       34|        4.7|     5,479|\n",
      "| tt0038674|  A Knight for a Day| movie| APPROVED|  08-Mar-46|November 12, 2019|  7 min|Animation, Short,...|         Jack Hannah|         English|                 USA|                 N/A|      N/A|          7|       488|\n",
      "| tt0282123|A Ring of Endless...| movie|     TV-G|  23-Aug-02|November 12, 2019| 88 min|Drama, Family, Ro...|         Greg Beeman|         English|                 USA|2 wins & 1 nomina...|      N/A|        6.1|     1,042|\n",
      "| tt0287003|A Tale of Two Cri...| movie|        G|  22-Jun-77|    April 3, 2020| 48 min|   Adventure, Family|         Jack Speirs|         English|                 USA|                 N/A|      N/A|        7.1|        59|\n",
      "| tt1620680|   A Wrinkle in Time| movie|       PG|  09-Mar-18|   March 25, 2020|109 min|Adventure, Family...|        Ava DuVernay|         English|                 USA|5 wins & 15 nomin...|       53|        4.2|    38,659|\n",
      "| tt6139732|             Aladdin| movie|       PG|  24-May-19|  January 8, 2020|128 min|Adventure, Family...|         Guy Ritchie| English, Arabic|                 USA|7 wins & 32 nomin...|       53|          7|  2,04,537|\n",
      "| tt0103639|             Aladdin| movie|        G|  25-Nov-92|November 12, 2019| 90 min|Animation, Advent...|Ron Clements, Joh...|         English|                 USA|Won 2 Oscars. Ano...|       86|          8|  3,56,283|\n",
      "| tt0115491|Aladdin and the K...| movie|Not Rated|  13-Aug-96|November 12, 2019| 81 min|Animation, Advent...|          Tad Stones|         English|                 USA|2 wins & 1 nomina...|      N/A|        6.4|    31,603|\n",
      "| tt0107952|Aladdin and the R...| movie|        G|  20-May-94|November 12, 2019| 69 min|Animation, Advent...|Toby Shelton, Tad...|         English|                 USA|       1 nomination.|      N/A|        5.9|    25,623|\n",
      "| tt0043274| Alice in Wonderland| movie|        G|  14-Sep-51|November 12, 2019| 75 min|Animation, Advent...|Clyde Geronimi, W...|         English|                 USA|Nominated for 1 O...|       68|        7.4|  1,23,377|\n",
      "+----------+--------------------+------+---------+-----------+-----------------+-------+--------------------+--------------------+----------------+--------------------+--------------------+---------+-----------+----------+\n",
      "only showing top 20 rows\n",
      "\n"
     ]
    }
   ],
   "source": [
    "desdf1.show()"
   ]
  },
  {
   "cell_type": "markdown",
   "id": "e5725001-0626-4418-a622-2ce8ca85ed0e",
   "metadata": {},
   "source": [
    "<h1>Handling N/A values</h1>"
   ]
  },
  {
   "cell_type": "code",
   "execution_count": 8,
   "id": "74324f61-8019-4e8a-88f3-b2f20e25435a",
   "metadata": {},
   "outputs": [],
   "source": [
    "#replacing N/A values of string with unknown\n",
    "desdf2= desdf1.replace(\"N/A\", \"Unknown\", subset=['title','type','genre','director','language','country','awards'])\n",
    "\n",
    "desdf3 = desdf2.replace(\"N/A\",\"Unrated\", subset=['rated'])\n",
    "#replacing N/A values of int or float with 0\n",
    "desdf4 = desdf3.replace(\"N/A\", '0', subset=['imdb_votes','imdb_rating','metascore','runtime'])"
   ]
  },
  {
   "cell_type": "code",
   "execution_count": 9,
   "id": "e0b2deaa-908e-47dd-8607-de3b77ba1482",
   "metadata": {},
   "outputs": [
    {
     "name": "stdout",
     "output_type": "stream",
     "text": [
      "+----------+--------------------+------+---------+-----------+-----------------+-------+--------------------+--------------------+----------------+--------------------+--------------------+---------+-----------+----------+\n",
      "|   imdb_id|               title|  type|    rated|released_at|         added_at|runtime|               genre|            director|        language|             country|              awards|metascore|imdb_rating|imdb_votes|\n",
      "+----------+--------------------+------+---------+-----------+-----------------+-------+--------------------+--------------------+----------------+--------------------+--------------------+---------+-----------+----------+\n",
      "| tt0147800|10 Things I Hate ...| movie|    PG-13|  31-Mar-99|November 12, 2019| 97 min|Comedy, Drama, Ro...|          Gil Junger| English, French|                 USA|2 wins & 13 nomin...|       70|        7.3|  2,83,945|\n",
      "| tt7019028|101 Dalmatian Street|series|  Unrated|  25-Mar-19|February 28, 2020|      0|Animation, Comedy...|             Unknown|         English|     UK, USA, Canada|             Unknown|        0|        6.2|       124|\n",
      "| tt0115433|      101 Dalmatians| movie|        G|  27-Nov-96|November 12, 2019|103 min|Adventure, Comedy...|       Stephen Herek|English, Spanish|             USA, UK|Nominated for 1 G...|       49|        5.7|    97,785|\n",
      "| tt0324941|101 Dalmatians 2:...| movie|        G|  21-Jan-03|November 12, 2019| 74 min|Animation, Advent...|Jim Kammerud, Bri...|         English|                 USA|5 wins & 10 nomin...|        0|        5.8|     7,434|\n",
      "| tt0211181|      102 Dalmatians| movie|        G|  22-Nov-00|November 12, 2019|100 min|Adventure, Comedy...|          Kevin Lima|         English|             USA, UK|Nominated for 1 O...|       35|        4.9|    33,444|\n",
      "| tt1846442|12 Dates of Chris...| movie|       PG|  11-Dec-11|November 12, 2019| 90 min|Comedy, Fantasy, ...|        James Hayman|         English|                 USA|       1 nomination.|        0|        6.3|     4,933|\n",
      "| tt0046672|20,000 Leagues Un...| movie|        G|  20-Jul-55|November 12, 2019|127 min|Adventure, Drama,...|   Richard Fleischer|         English|                 USA|Won 2 Oscars. Ano...|       83|        7.2|    27,761|\n",
      "| tt0120623|        A Bug's Life| movie|        G|  25-Nov-98|November 12, 2019| 95 min|Animation, Advent...|John Lasseter, An...|         English|                 USA|Nominated for 1 O...|       77|        7.2|  2,57,065|\n",
      "|tt12076020|A Celebration of ...| movie|  Unrated|  10-Apr-20|   April 10, 2020|      0|               Music|       Ron de Moraes|         English|                 USA|             Unknown|        0|        7.6|        35|\n",
      "| tt0113198|       A Goofy Movie| movie|        G|  07-Apr-95|November 12, 2019| 78 min|Animation, Advent...|          Kevin Lima|         English|USA, Australia, F...|      5 nominations.|        0|        6.8|    43,655|\n",
      "| tt0113538|A Kid in King Art...| movie|       PG|  11-Aug-95|November 12, 2019| 89 min|Adventure, Comedy...|    Michael Gottlieb|         English|    USA, Hungary, UK|       1 nomination.|       34|        4.7|     5,479|\n",
      "| tt0038674|  A Knight for a Day| movie| APPROVED|  08-Mar-46|November 12, 2019|  7 min|Animation, Short,...|         Jack Hannah|         English|                 USA|             Unknown|        0|          7|       488|\n",
      "| tt0282123|A Ring of Endless...| movie|     TV-G|  23-Aug-02|November 12, 2019| 88 min|Drama, Family, Ro...|         Greg Beeman|         English|                 USA|2 wins & 1 nomina...|        0|        6.1|     1,042|\n",
      "| tt0287003|A Tale of Two Cri...| movie|        G|  22-Jun-77|    April 3, 2020| 48 min|   Adventure, Family|         Jack Speirs|         English|                 USA|             Unknown|        0|        7.1|        59|\n",
      "| tt1620680|   A Wrinkle in Time| movie|       PG|  09-Mar-18|   March 25, 2020|109 min|Adventure, Family...|        Ava DuVernay|         English|                 USA|5 wins & 15 nomin...|       53|        4.2|    38,659|\n",
      "| tt6139732|             Aladdin| movie|       PG|  24-May-19|  January 8, 2020|128 min|Adventure, Family...|         Guy Ritchie| English, Arabic|                 USA|7 wins & 32 nomin...|       53|          7|  2,04,537|\n",
      "| tt0103639|             Aladdin| movie|        G|  25-Nov-92|November 12, 2019| 90 min|Animation, Advent...|Ron Clements, Joh...|         English|                 USA|Won 2 Oscars. Ano...|       86|          8|  3,56,283|\n",
      "| tt0115491|Aladdin and the K...| movie|Not Rated|  13-Aug-96|November 12, 2019| 81 min|Animation, Advent...|          Tad Stones|         English|                 USA|2 wins & 1 nomina...|        0|        6.4|    31,603|\n",
      "| tt0107952|Aladdin and the R...| movie|        G|  20-May-94|November 12, 2019| 69 min|Animation, Advent...|Toby Shelton, Tad...|         English|                 USA|       1 nomination.|        0|        5.9|    25,623|\n",
      "| tt0043274| Alice in Wonderland| movie|        G|  14-Sep-51|November 12, 2019| 75 min|Animation, Advent...|Clyde Geronimi, W...|         English|                 USA|Nominated for 1 O...|       68|        7.4|  1,23,377|\n",
      "+----------+--------------------+------+---------+-----------+-----------------+-------+--------------------+--------------------+----------------+--------------------+--------------------+---------+-----------+----------+\n",
      "only showing top 20 rows\n",
      "\n"
     ]
    }
   ],
   "source": [
    "desdf4.show()"
   ]
  },
  {
   "cell_type": "markdown",
   "id": "69df91de-fbb2-417e-936b-c6334130ff1b",
   "metadata": {},
   "source": [
    "<h1># Droping unnecessary Rows & Columns from table </h1>"
   ]
  },
  {
   "cell_type": "code",
   "execution_count": 10,
   "id": "08366c58-6c98-40e8-afe7-59d366c8ca33",
   "metadata": {},
   "outputs": [],
   "source": [
    "desdf5 =desdf4.na.drop(subset=[\"imdb_id\"])"
   ]
  },
  {
   "cell_type": "code",
   "execution_count": 11,
   "id": "396ba05c-46ab-4999-aadb-deaf5c674476",
   "metadata": {},
   "outputs": [],
   "source": [
    "desdf7= desdf5.drop(\"_c2\").drop(\"year\").drop(\"_c11\").drop(\"_c12\")"
   ]
  },
  {
   "cell_type": "code",
   "execution_count": 12,
   "id": "295219ae-911c-4aef-94ad-50021e6eb4ac",
   "metadata": {},
   "outputs": [
    {
     "name": "stdout",
     "output_type": "stream",
     "text": [
      "root\n",
      " |-- imdb_id: string (nullable = true)\n",
      " |-- title: string (nullable = true)\n",
      " |-- type: string (nullable = true)\n",
      " |-- rated: string (nullable = true)\n",
      " |-- released_at: string (nullable = true)\n",
      " |-- added_at: string (nullable = true)\n",
      " |-- runtime: string (nullable = true)\n",
      " |-- genre: string (nullable = true)\n",
      " |-- director: string (nullable = true)\n",
      " |-- language: string (nullable = true)\n",
      " |-- country: string (nullable = true)\n",
      " |-- awards: string (nullable = true)\n",
      " |-- metascore: string (nullable = true)\n",
      " |-- imdb_rating: string (nullable = true)\n",
      " |-- imdb_votes: string (nullable = true)\n",
      "\n"
     ]
    }
   ],
   "source": [
    "desdf7.printSchema()"
   ]
  },
  {
   "cell_type": "code",
   "execution_count": 13,
   "id": "4b0a1963-ae36-4f38-8adf-7566f019c233",
   "metadata": {},
   "outputs": [
    {
     "name": "stdout",
     "output_type": "stream",
     "text": [
      "+-----------+\n",
      "|released_at|\n",
      "+-----------+\n",
      "|  31-Mar-99|\n",
      "|  25-Mar-19|\n",
      "|  27-Nov-96|\n",
      "|  21-Jan-03|\n",
      "|  22-Nov-00|\n",
      "|  11-Dec-11|\n",
      "|  20-Jul-55|\n",
      "|  25-Nov-98|\n",
      "|  10-Apr-20|\n",
      "|  07-Apr-95|\n",
      "|  11-Aug-95|\n",
      "|  08-Mar-46|\n",
      "|  23-Aug-02|\n",
      "|  22-Jun-77|\n",
      "|  09-Mar-18|\n",
      "|  24-May-19|\n",
      "|  25-Nov-92|\n",
      "|  13-Aug-96|\n",
      "|  20-May-94|\n",
      "|  14-Sep-51|\n",
      "+-----------+\n",
      "only showing top 20 rows\n",
      "\n"
     ]
    }
   ],
   "source": [
    "desdf7.select(\"released_at\").show()"
   ]
  },
  {
   "cell_type": "markdown",
   "id": "18b4a220-77dc-452f-822f-d8174facfe0b",
   "metadata": {},
   "source": [
    "<h1># Remove Duplicates</h1>"
   ]
  },
  {
   "cell_type": "code",
   "execution_count": 14,
   "id": "fb027de0-5238-4b31-b280-9ab83f123c51",
   "metadata": {},
   "outputs": [],
   "source": [
    "desdf8 =desdf7.dropDuplicates()"
   ]
  },
  {
   "cell_type": "code",
   "execution_count": 15,
   "id": "f52d7799-aaf6-4b42-8bea-8b9d527a0676",
   "metadata": {},
   "outputs": [
    {
     "name": "stdout",
     "output_type": "stream",
     "text": [
      "root\n",
      " |-- imdb_id: string (nullable = true)\n",
      " |-- title: string (nullable = true)\n",
      " |-- type: string (nullable = true)\n",
      " |-- rated: string (nullable = true)\n",
      " |-- released_at: string (nullable = true)\n",
      " |-- added_at: string (nullable = true)\n",
      " |-- runtime: string (nullable = true)\n",
      " |-- genre: string (nullable = true)\n",
      " |-- director: string (nullable = true)\n",
      " |-- language: string (nullable = true)\n",
      " |-- country: string (nullable = true)\n",
      " |-- awards: string (nullable = true)\n",
      " |-- metascore: string (nullable = true)\n",
      " |-- imdb_rating: string (nullable = true)\n",
      " |-- imdb_votes: string (nullable = true)\n",
      "\n"
     ]
    }
   ],
   "source": [
    "desdf8.printSchema()"
   ]
  },
  {
   "cell_type": "code",
   "execution_count": 16,
   "id": "dabc2fda-5819-4faa-8722-242d45c98139",
   "metadata": {},
   "outputs": [
    {
     "name": "stdout",
     "output_type": "stream",
     "text": [
      "+---------+--------------------+-------+---------+-----------+-----------------+-------+--------------------+--------------------+-------------------+-----------+--------------------+---------+-----------+----------+\n",
      "|  imdb_id|               title|   type|    rated|released_at|         added_at|runtime|               genre|            director|           language|    country|              awards|metascore|imdb_rating|imdb_votes|\n",
      "+---------+--------------------+-------+---------+-----------+-----------------+-------+--------------------+--------------------+-------------------+-----------+--------------------+---------+-----------+----------+\n",
      "|tt0104437|Honey, I Blew Up ...|  movie|       PG|  17-Jul-92|November 12, 2019| 89 min|Adventure, Comedy...|      Randal Kleiser|            English|        USA|     10 nominations.|       50|        4.8|    39,775|\n",
      "|tt7979492|        Kim Possible|  movie|     TV-G|  15-Feb-19|November 12, 2019| 86 min|Action, Adventure...|Zach Lipovsky, Ad...|            English|        USA|             Unknown|        0|        3.6|     2,030|\n",
      "|tt0397113|        Tiger Cruise|  movie|    TV-PG|  06-Aug-04|November 12, 2019| 88 min|       Drama, Family|      Duwayne Dunham|            English|        USA|      3 nominations.|        0|        6.2|     1,166|\n",
      "|tt0092638|    Benji the Hunted|  movie|        G|  19-Jun-87|November 12, 2019| 88 min|   Adventure, Family|            Joe Camp|            English|        USA|1 win & 1 nominat...|       53|        6.3|     2,629|\n",
      "|tt1300854|          Iron Man 3|  movie|    PG-13|  03-May-13|November 12, 2019|130 min|Action, Adventure...|         Shane Black|            English|        USA|Nominated for 1 O...|       62|        7.2|  7,30,917|\n",
      "|tt0120317|       That Darn Cat|  movie|       PG|  14-Feb-97|November 12, 2019| 89 min|Action, Comedy, C...|          Bob Spiers|            English|        USA|      2 nominations.|       36|        4.7|     3,952|\n",
      "|tt0211174|   Up, Up, and Away!|  movie|     TV-G|  22-Jan-00|November 12, 2019| 90 min|Comedy, Family, F...|     Robert Townsend|            English|Canada, USA|       1 nomination.|        0|        5.6|     1,736|\n",
      "|tt6139732|             Aladdin|  movie|       PG|  24-May-19|  January 8, 2020|128 min|Adventure, Family...|         Guy Ritchie|    English, Arabic|        USA|7 wins & 32 nomin...|       53|          7|  2,04,537|\n",
      "|tt0756522|    Little Einsteins| series|     TV-Y|  09-Oct-05|November 12, 2019| 30 min|Animation, Advent...|             Unknown|            English|        USA|      4 nominations.|        0|        6.2|     1,143|\n",
      "|tt0058056|Emil and the Dete...|  movie|       PG|  18-Dec-64|November 12, 2019| 99 min|Comedy, Family, D...|     Peter Tewksbury|            English|        USA|             Unknown|        0|        6.2|       390|\n",
      "|tt0445990|          Invincible|  movie|       PG|  25-Aug-06|November 12, 2019|105 min|Biography, Drama,...|        Ericson Core|            English|        USA|      2 nominations.|       63|        7.1|    63,682|\n",
      "|tt9073722|Marvel Rising: In...| series|  Unrated|  13-Aug-18|November 12, 2019|      0|Animation, Short,...|             Unknown|            English|        USA|             Unknown|        0|        4.9|       255|\n",
      "|tt0088814|  The Black Cauldron|  movie|       PG|  24-Jul-85|November 12, 2019| 80 min|Animation, Action...|Ted Berman, Richa...|English, Portuguese|    USA, UK|             Unknown|       59|        6.4|    29,395|\n",
      "|tt0027126|The Tortoise and ...|  movie| Approved|  05-Jan-35|November 12, 2019|  9 min|Animation, Short,...|     Wilfred Jackson|            English|        USA|             Unknown|        0|        7.2|     2,028|\n",
      "|tt0323250|      Mike's New Car|  movie|Not Rated|  09-Aug-02|November 12, 2019|  4 min|Animation, Short,...|Pete Docter, Roge...|            English|        USA|             Unknown|        0|        7.1|    11,759|\n",
      "|tt0198781|      Monsters, Inc.|  movie|        G|  02-Nov-01|November 12, 2019| 92 min|Animation, Advent...|Pete Docter, Davi...|            English|        USA|Won 1 Oscar. Anot...|       79|          8|  7,79,728|\n",
      "|tt1378121|         El Materdor|episode|  Unrated|  29-Oct-08|  January 1, 2020| 36 min|Animation, Advent...|John Lasseter, Ro...|            English|        USA|             Unknown|        0|        6.4|       283|\n",
      "|tt0092345|           DuckTales| series|     TV-G|  18-Sep-87|November 12, 2019| 23 min|Animation, Advent...|             Unknown|            English|        USA|2 wins & 5 nomina...|        0|        8.1|    27,880|\n",
      "|tt0962726|High School Music...|  movie|        G|  24-Oct-08|November 12, 2019|112 min|Comedy, Drama, Fa...|        Kenny Ortega|            English|        USA|8 wins & 9 nomina...|       57|        4.8|    55,628|\n",
      "|tt0115215| The Incredible Hulk| series|    TV-Y7|  08-Sep-96|November 12, 2019| 20 min|Animation, Action...|             Unknown|            English|        USA|              1 win.|        0|        6.8|     2,643|\n",
      "+---------+--------------------+-------+---------+-----------+-----------------+-------+--------------------+--------------------+-------------------+-----------+--------------------+---------+-----------+----------+\n",
      "only showing top 20 rows\n",
      "\n"
     ]
    }
   ],
   "source": [
    "desdf8.show()"
   ]
  },
  {
   "cell_type": "markdown",
   "id": "ac05df95-49fe-4e91-9bb1-36713351d146",
   "metadata": {},
   "source": [
    "<h1>Removing 'min' string from column and changing datatype to int</h1>"
   ]
  },
  {
   "cell_type": "code",
   "execution_count": 42,
   "id": "8233b003-a783-482e-858d-8db03a255dfc",
   "metadata": {},
   "outputs": [
    {
     "name": "stdout",
     "output_type": "stream",
     "text": [
      "root\n",
      " |-- imdb_id: string (nullable = true)\n",
      " |-- title: string (nullable = true)\n",
      " |-- type: string (nullable = true)\n",
      " |-- rated: string (nullable = true)\n",
      " |-- released_at: string (nullable = true)\n",
      " |-- added_at: string (nullable = true)\n",
      " |-- runtime: string (nullable = true)\n",
      " |-- genre: string (nullable = true)\n",
      " |-- director: string (nullable = true)\n",
      " |-- language: string (nullable = true)\n",
      " |-- country: string (nullable = true)\n",
      " |-- awards: string (nullable = true)\n",
      " |-- metascore: string (nullable = true)\n",
      " |-- imdb_rating: string (nullable = true)\n",
      " |-- imdb_votes: string (nullable = true)\n",
      "\n",
      "+-------+\n",
      "|runtime|\n",
      "+-------+\n",
      "| 89 min|\n",
      "| 86 min|\n",
      "| 88 min|\n",
      "| 88 min|\n",
      "|130 min|\n",
      "| 89 min|\n",
      "| 90 min|\n",
      "|128 min|\n",
      "| 30 min|\n",
      "| 99 min|\n",
      "|105 min|\n",
      "|      0|\n",
      "| 80 min|\n",
      "|  9 min|\n",
      "|  4 min|\n",
      "| 92 min|\n",
      "| 36 min|\n",
      "| 23 min|\n",
      "|112 min|\n",
      "| 20 min|\n",
      "+-------+\n",
      "only showing top 20 rows\n",
      "\n"
     ]
    }
   ],
   "source": [
    "desdf8.printSchema()\n",
    "desdf8.select(\"runtime\").show()"
   ]
  },
  {
   "cell_type": "code",
   "execution_count": 17,
   "id": "2650709f-f03d-4e13-a82b-dda3965f9ee5",
   "metadata": {},
   "outputs": [],
   "source": [
    "from pyspark.sql.functions import regexp_extract, col, when, to_timestamp, to_date, regexp_replace\n",
    "from pyspark.sql.types import IntegerType\n",
    "\n",
    "desdf9 = desdf8.withColumn(\n",
    "    \"runtime\", \n",
    "    when(\n",
    "        regexp_extract(col(\"runtime\"), r\"(\\d+)\\s*min\", 1) !=\"\",\n",
    "        regexp_extract(col(\"runtime\"), r\"(\\d+)\\s*min\", 1).cast(IntegerType())\n",
    "    ).otherwise(0)\n",
    ")\n",
    "\n"
   ]
  },
  {
   "cell_type": "code",
   "execution_count": 37,
   "id": "4fae105f-e806-4d83-aeb7-a759b391efea",
   "metadata": {},
   "outputs": [
    {
     "name": "stdout",
     "output_type": "stream",
     "text": [
      "root\n",
      " |-- imdb_id: string (nullable = true)\n",
      " |-- title: string (nullable = true)\n",
      " |-- type: string (nullable = true)\n",
      " |-- rated: string (nullable = true)\n",
      " |-- released_at: string (nullable = true)\n",
      " |-- added_at: string (nullable = true)\n",
      " |-- runtime: integer (nullable = true)\n",
      " |-- genre: string (nullable = true)\n",
      " |-- director: string (nullable = true)\n",
      " |-- language: string (nullable = true)\n",
      " |-- country: string (nullable = true)\n",
      " |-- awards: string (nullable = true)\n",
      " |-- metascore: string (nullable = true)\n",
      " |-- imdb_rating: string (nullable = true)\n",
      " |-- imdb_votes: string (nullable = true)\n",
      "\n",
      "+-------+\n",
      "|runtime|\n",
      "+-------+\n",
      "|     89|\n",
      "|     86|\n",
      "|     88|\n",
      "|     88|\n",
      "|    130|\n",
      "|     89|\n",
      "|     90|\n",
      "|    128|\n",
      "|     30|\n",
      "|     99|\n",
      "|    105|\n",
      "|      0|\n",
      "|     80|\n",
      "|      9|\n",
      "|      4|\n",
      "|     92|\n",
      "|     36|\n",
      "|     23|\n",
      "|    112|\n",
      "|     20|\n",
      "+-------+\n",
      "only showing top 20 rows\n",
      "\n"
     ]
    }
   ],
   "source": [
    "desdf9.printSchema()\n",
    "desdf9.select(\"runtime\").show()"
   ]
  },
  {
   "cell_type": "markdown",
   "id": "45239c85-f83e-4116-809f-21939f170437",
   "metadata": {},
   "source": [
    "<h1># Changing datatypes to original datatypes</h1>"
   ]
  },
  {
   "cell_type": "code",
   "execution_count": 40,
   "id": "ab59dfd4-5a01-4a72-8c6a-e952ccfc8b1b",
   "metadata": {},
   "outputs": [
    {
     "name": "stdout",
     "output_type": "stream",
     "text": [
      "root\n",
      " |-- imdb_id: string (nullable = true)\n",
      " |-- title: string (nullable = true)\n",
      " |-- type: string (nullable = true)\n",
      " |-- rated: string (nullable = true)\n",
      " |-- released_at: string (nullable = true)\n",
      " |-- added_at: string (nullable = true)\n",
      " |-- runtime: integer (nullable = true)\n",
      " |-- genre: string (nullable = true)\n",
      " |-- director: string (nullable = true)\n",
      " |-- language: string (nullable = true)\n",
      " |-- country: string (nullable = true)\n",
      " |-- awards: string (nullable = true)\n",
      " |-- metascore: string (nullable = true)\n",
      " |-- imdb_rating: string (nullable = true)\n",
      " |-- imdb_votes: string (nullable = true)\n",
      "\n"
     ]
    }
   ],
   "source": [
    "desdf9.printSchema()"
   ]
  },
  {
   "cell_type": "code",
   "execution_count": 19,
   "id": "d66896f1-2f1e-4a93-b2e4-4335f3d33a67",
   "metadata": {},
   "outputs": [],
   "source": [
    "cast_columns = { \n",
    "    \"metascore\" : \"int\",\n",
    "    \"imdb_rating\" : \"float\"}\n",
    "\n",
    "temp_df = desdf9\n",
    "\n",
    "for col_name, new_type in cast_columns.items():\n",
    "    temp_df = temp_df.withColumn(col_name,col(col_name).cast(new_type))\n",
    "\n",
    "desdf10 = temp_df\n",
    "\n"
   ]
  },
  {
   "cell_type": "code",
   "execution_count": 41,
   "id": "c7f3d3f2-a2eb-40ec-9cfd-c9f2b234cfb2",
   "metadata": {},
   "outputs": [
    {
     "name": "stdout",
     "output_type": "stream",
     "text": [
      "root\n",
      " |-- imdb_id: string (nullable = true)\n",
      " |-- title: string (nullable = true)\n",
      " |-- type: string (nullable = true)\n",
      " |-- rated: string (nullable = true)\n",
      " |-- released_at: string (nullable = true)\n",
      " |-- added_at: string (nullable = true)\n",
      " |-- runtime: integer (nullable = true)\n",
      " |-- genre: string (nullable = true)\n",
      " |-- director: string (nullable = true)\n",
      " |-- language: string (nullable = true)\n",
      " |-- country: string (nullable = true)\n",
      " |-- awards: string (nullable = true)\n",
      " |-- metascore: integer (nullable = true)\n",
      " |-- imdb_rating: float (nullable = true)\n",
      " |-- imdb_votes: string (nullable = true)\n",
      "\n"
     ]
    }
   ],
   "source": [
    "desdf10.printSchema()"
   ]
  },
  {
   "cell_type": "markdown",
   "id": "63fde3eb-192e-4dba-a800-d577c8352d0d",
   "metadata": {},
   "source": [
    "<h1>Removing Comma from votes and changing Datatype</h1>"
   ]
  },
  {
   "cell_type": "code",
   "execution_count": 46,
   "id": "54d671ee-1ddc-4132-b2ed-9740ec5e33f7",
   "metadata": {},
   "outputs": [
    {
     "name": "stdout",
     "output_type": "stream",
     "text": [
      "root\n",
      " |-- imdb_id: string (nullable = true)\n",
      " |-- title: string (nullable = true)\n",
      " |-- type: string (nullable = true)\n",
      " |-- rated: string (nullable = true)\n",
      " |-- released_at: string (nullable = true)\n",
      " |-- added_at: string (nullable = true)\n",
      " |-- runtime: integer (nullable = true)\n",
      " |-- genre: string (nullable = true)\n",
      " |-- director: string (nullable = true)\n",
      " |-- language: string (nullable = true)\n",
      " |-- country: string (nullable = true)\n",
      " |-- awards: string (nullable = true)\n",
      " |-- metascore: integer (nullable = true)\n",
      " |-- imdb_rating: float (nullable = true)\n",
      " |-- imdb_votes: string (nullable = true)\n",
      "\n",
      "+----------+\n",
      "|imdb_votes|\n",
      "+----------+\n",
      "|    39,775|\n",
      "|     2,030|\n",
      "|     1,166|\n",
      "|     2,629|\n",
      "|  7,30,917|\n",
      "|     3,952|\n",
      "|     1,736|\n",
      "|  2,04,537|\n",
      "|     1,143|\n",
      "|       390|\n",
      "|    63,682|\n",
      "|       255|\n",
      "|    29,395|\n",
      "|     2,028|\n",
      "|    11,759|\n",
      "|  7,79,728|\n",
      "|       283|\n",
      "|    27,880|\n",
      "|    55,628|\n",
      "|     2,643|\n",
      "+----------+\n",
      "only showing top 20 rows\n",
      "\n"
     ]
    }
   ],
   "source": [
    "desdf10.printSchema()\n",
    "desdf10.select(\"imdb_votes\").show()"
   ]
  },
  {
   "cell_type": "code",
   "execution_count": 21,
   "id": "8ee69fd9-7093-454e-934c-bb024971e574",
   "metadata": {},
   "outputs": [],
   "source": [
    "desdf11 = desdf10.withColumn(\n",
    "    \"imdb_votes\",\n",
    "    regexp_replace(col(\"imdb_votes\"), \",\", \"\").cast(IntegerType())\n",
    ")\n"
   ]
  },
  {
   "cell_type": "code",
   "execution_count": 47,
   "id": "b18399d1-6f30-4d57-8f3f-e5e59187d899",
   "metadata": {},
   "outputs": [
    {
     "name": "stdout",
     "output_type": "stream",
     "text": [
      "root\n",
      " |-- imdb_id: string (nullable = true)\n",
      " |-- title: string (nullable = true)\n",
      " |-- type: string (nullable = true)\n",
      " |-- rated: string (nullable = true)\n",
      " |-- released_at: string (nullable = true)\n",
      " |-- added_at: string (nullable = true)\n",
      " |-- runtime: integer (nullable = true)\n",
      " |-- genre: string (nullable = true)\n",
      " |-- director: string (nullable = true)\n",
      " |-- language: string (nullable = true)\n",
      " |-- country: string (nullable = true)\n",
      " |-- awards: string (nullable = true)\n",
      " |-- metascore: integer (nullable = true)\n",
      " |-- imdb_rating: float (nullable = true)\n",
      " |-- imdb_votes: integer (nullable = true)\n",
      "\n",
      "+----------+\n",
      "|imdb_votes|\n",
      "+----------+\n",
      "|     39775|\n",
      "|      2030|\n",
      "|      1166|\n",
      "|      2629|\n",
      "|    730917|\n",
      "|      3952|\n",
      "|      1736|\n",
      "|    204537|\n",
      "|      1143|\n",
      "|       390|\n",
      "|     63682|\n",
      "|       255|\n",
      "|     29395|\n",
      "|      2028|\n",
      "|     11759|\n",
      "|    779728|\n",
      "|       283|\n",
      "|     27880|\n",
      "|     55628|\n",
      "|      2643|\n",
      "+----------+\n",
      "only showing top 20 rows\n",
      "\n"
     ]
    }
   ],
   "source": [
    "desdf11.printSchema()\n",
    "desdf11.select(\"imdb_votes\").show()"
   ]
  },
  {
   "cell_type": "markdown",
   "id": "3fa8caa2-2aa0-4a56-b65a-bd3f76118975",
   "metadata": {},
   "source": [
    "<h1>Consitent data throughout the column</h1>"
   ]
  },
  {
   "cell_type": "code",
   "execution_count": 51,
   "id": "715e6cf6-5c78-4708-9615-827a978b215e",
   "metadata": {},
   "outputs": [
    {
     "name": "stdout",
     "output_type": "stream",
     "text": [
      "+---------+\n",
      "|    rated|\n",
      "+---------+\n",
      "|       PG|\n",
      "|     TV-G|\n",
      "|    TV-PG|\n",
      "|        G|\n",
      "|    PG-13|\n",
      "|       PG|\n",
      "|     TV-G|\n",
      "|       PG|\n",
      "|     TV-Y|\n",
      "|       PG|\n",
      "|       PG|\n",
      "|  Unrated|\n",
      "|       PG|\n",
      "| Approved|\n",
      "|Not Rated|\n",
      "|        G|\n",
      "|  Unrated|\n",
      "|     TV-G|\n",
      "|        G|\n",
      "|    TV-Y7|\n",
      "|    PG-13|\n",
      "|     TV-Y|\n",
      "|    TV-Y7|\n",
      "|       PG|\n",
      "|       PG|\n",
      "|        G|\n",
      "|  UNRATED|\n",
      "|  Unrated|\n",
      "|     TV-G|\n",
      "|  Unrated|\n",
      "|Not Rated|\n",
      "|    TV-Y7|\n",
      "|  Unrated|\n",
      "|       PG|\n",
      "|  Unrated|\n",
      "|        G|\n",
      "|        G|\n",
      "| Approved|\n",
      "|        G|\n",
      "|    TV-PG|\n",
      "+---------+\n",
      "only showing top 40 rows\n",
      "\n"
     ]
    }
   ],
   "source": [
    "desdf11.select(\"rated\").show(40)"
   ]
  },
  {
   "cell_type": "code",
   "execution_count": 48,
   "id": "e88f6374-11ec-4dfb-9e5b-6721d026226a",
   "metadata": {},
   "outputs": [],
   "source": [
    "#Changing all UNRATED values from uppercase to lowercase\n",
    "desdf12 =desdf11.replace(\"UNRATED\",\"Unrated\",subset=[\"rated\"])\n",
    "\n",
    "#Changing all APPROVED values from uppercase to lowercase\n",
    "desdf13 =desdf12.replace(\"APPROVED\",\"Approved\", subset=[\"rated\"])"
   ]
  },
  {
   "cell_type": "code",
   "execution_count": 53,
   "id": "bda7a690-da9d-49cb-8574-aa0d6010ab32",
   "metadata": {},
   "outputs": [
    {
     "name": "stdout",
     "output_type": "stream",
     "text": [
      "+---------+\n",
      "|    rated|\n",
      "+---------+\n",
      "|       PG|\n",
      "|     TV-G|\n",
      "|    TV-PG|\n",
      "|        G|\n",
      "|    PG-13|\n",
      "|       PG|\n",
      "|     TV-G|\n",
      "|       PG|\n",
      "|     TV-Y|\n",
      "|       PG|\n",
      "|       PG|\n",
      "|  Unrated|\n",
      "|       PG|\n",
      "| Approved|\n",
      "|Not Rated|\n",
      "|        G|\n",
      "|  Unrated|\n",
      "|     TV-G|\n",
      "|        G|\n",
      "|    TV-Y7|\n",
      "|    PG-13|\n",
      "|     TV-Y|\n",
      "|    TV-Y7|\n",
      "|       PG|\n",
      "|       PG|\n",
      "|        G|\n",
      "|  Unrated|\n",
      "|  Unrated|\n",
      "|     TV-G|\n",
      "|  Unrated|\n",
      "|Not Rated|\n",
      "|    TV-Y7|\n",
      "|  Unrated|\n",
      "|       PG|\n",
      "|  Unrated|\n",
      "|        G|\n",
      "|        G|\n",
      "| Approved|\n",
      "|        G|\n",
      "|    TV-PG|\n",
      "+---------+\n",
      "only showing top 40 rows\n",
      "\n"
     ]
    }
   ],
   "source": [
    "desdf13.select(\"rated\").show(40)"
   ]
  },
  {
   "cell_type": "code",
   "execution_count": 54,
   "id": "e4acefb1-b875-4155-8873-81b5af251b91",
   "metadata": {},
   "outputs": [],
   "source": [
    "# Changing datatype to timestamp\n",
    "desdf15 = desdf13.withColumn(\"added_at\", to_timestamp(col(\"added_at\"), \"MMMM d, yyyy\"))\n",
    "\n",
    "#changing datatype to date\n",
    "desdf16 = desdf15.withColumn(\"added_at\", to_date(col(\"added_at\")))"
   ]
  },
  {
   "cell_type": "code",
   "execution_count": 58,
   "id": "e19e5375-205b-453c-84a6-b6f2a8f62cef",
   "metadata": {},
   "outputs": [
    {
     "name": "stdout",
     "output_type": "stream",
     "text": [
      "+-------------------+\n",
      "|           added_at|\n",
      "+-------------------+\n",
      "|2019-11-12 00:00:00|\n",
      "|2019-11-12 00:00:00|\n",
      "|2019-11-12 00:00:00|\n",
      "|2019-11-12 00:00:00|\n",
      "|2019-11-12 00:00:00|\n",
      "|2019-11-12 00:00:00|\n",
      "|2019-11-12 00:00:00|\n",
      "|2020-01-08 00:00:00|\n",
      "|2019-11-12 00:00:00|\n",
      "|2019-11-12 00:00:00|\n",
      "|2019-11-12 00:00:00|\n",
      "|2019-11-12 00:00:00|\n",
      "|2019-11-12 00:00:00|\n",
      "|2019-11-12 00:00:00|\n",
      "|2019-11-12 00:00:00|\n",
      "|2019-11-12 00:00:00|\n",
      "|2020-01-01 00:00:00|\n",
      "|2019-11-12 00:00:00|\n",
      "|2019-11-12 00:00:00|\n",
      "|2019-11-12 00:00:00|\n",
      "+-------------------+\n",
      "only showing top 20 rows\n",
      "\n",
      "+----------+\n",
      "|  added_at|\n",
      "+----------+\n",
      "|2019-11-12|\n",
      "|2019-11-12|\n",
      "|2019-11-12|\n",
      "|2019-11-12|\n",
      "|2019-11-12|\n",
      "|2019-11-12|\n",
      "|2019-11-12|\n",
      "|2020-01-08|\n",
      "|2019-11-12|\n",
      "|2019-11-12|\n",
      "|2019-11-12|\n",
      "|2019-11-12|\n",
      "|2019-11-12|\n",
      "|2019-11-12|\n",
      "|2019-11-12|\n",
      "|2019-11-12|\n",
      "|2020-01-01|\n",
      "|2019-11-12|\n",
      "|2019-11-12|\n",
      "|2019-11-12|\n",
      "+----------+\n",
      "only showing top 20 rows\n",
      "\n"
     ]
    }
   ],
   "source": [
    "desdf15.select(\"added_at\").show()\n",
    "desdf16.select(\"added_at\").show()"
   ]
  },
  {
   "cell_type": "code",
   "execution_count": 56,
   "id": "120eb179-9c03-48ac-8cc9-09f4805b893e",
   "metadata": {},
   "outputs": [
    {
     "name": "stdout",
     "output_type": "stream",
     "text": [
      "root\n",
      " |-- imdb_id: string (nullable = true)\n",
      " |-- title: string (nullable = true)\n",
      " |-- type: string (nullable = true)\n",
      " |-- rated: string (nullable = true)\n",
      " |-- released_at: string (nullable = true)\n",
      " |-- added_at: timestamp (nullable = true)\n",
      " |-- runtime: integer (nullable = true)\n",
      " |-- genre: string (nullable = true)\n",
      " |-- director: string (nullable = true)\n",
      " |-- language: string (nullable = true)\n",
      " |-- country: string (nullable = true)\n",
      " |-- awards: string (nullable = true)\n",
      " |-- metascore: integer (nullable = true)\n",
      " |-- imdb_rating: float (nullable = true)\n",
      " |-- imdb_votes: integer (nullable = true)\n",
      "\n",
      "root\n",
      " |-- imdb_id: string (nullable = true)\n",
      " |-- title: string (nullable = true)\n",
      " |-- type: string (nullable = true)\n",
      " |-- rated: string (nullable = true)\n",
      " |-- released_at: string (nullable = true)\n",
      " |-- added_at: date (nullable = true)\n",
      " |-- runtime: integer (nullable = true)\n",
      " |-- genre: string (nullable = true)\n",
      " |-- director: string (nullable = true)\n",
      " |-- language: string (nullable = true)\n",
      " |-- country: string (nullable = true)\n",
      " |-- awards: string (nullable = true)\n",
      " |-- metascore: integer (nullable = true)\n",
      " |-- imdb_rating: float (nullable = true)\n",
      " |-- imdb_votes: integer (nullable = true)\n",
      "\n"
     ]
    }
   ],
   "source": [
    "desdf15.printSchema()\n",
    "desdf16.printSchema()"
   ]
  },
  {
   "cell_type": "markdown",
   "id": "b99e2540-574d-419a-9d2f-0e302c1d35b5",
   "metadata": {},
   "source": [
    "<h1>Seperating Awards to Wins, Oscars, Nominations, Golden_gloge_nominations to seperate Columns </h1>"
   ]
  },
  {
   "cell_type": "code",
   "execution_count": 27,
   "id": "eccb0815-d638-4a2f-935b-9455109a9467",
   "metadata": {},
   "outputs": [],
   "source": [
    "desdf17 = desdf16.withColumn(\"wins\", regexp_extract(col(\"awards\"), r'(\\d+)\\s+win', 1).cast(IntegerType())) \\\n",
    "    .withColumn(\"nominations\", regexp_extract(col(\"awards\"), r'(\\d+)\\s+nomination', 1).cast(IntegerType())) \\\n",
    "    .withColumn(\"oscar_wins\", regexp_extract(col(\"awards\"), r'Won\\s+(\\d+)\\s+Oscar', 1).cast(IntegerType())) \\\n",
    "    .withColumn(\"oscar_nominations\", regexp_extract(col(\"awards\"), r'Nominated for\\s+(\\d+)\\s+Oscar', 1).cast(IntegerType())) \\\n",
    "    .withColumn(\"golden_globe_nominations\", regexp_extract(col(\"awards\"), r'Nominated for\\s+(\\d+)\\s+Golden Globe', 1).cast(IntegerType())) \\\n",
    "    .fillna({\n",
    "        \"wins\": 0,\n",
    "        \"nominations\": 0,\n",
    "        \"oscar_wins\": 0,\n",
    "        \"oscar_nominations\": 0,\n",
    "        \"golden_globe_nominations\": 0\n",
    "    })"
   ]
  },
  {
   "cell_type": "code",
   "execution_count": 28,
   "id": "953eda60-3265-42f0-b8ad-ac451f851f48",
   "metadata": {},
   "outputs": [
    {
     "name": "stdout",
     "output_type": "stream",
     "text": [
      "root\n",
      " |-- imdb_id: string (nullable = true)\n",
      " |-- title: string (nullable = true)\n",
      " |-- type: string (nullable = true)\n",
      " |-- rated: string (nullable = true)\n",
      " |-- released_at: string (nullable = true)\n",
      " |-- added_at: date (nullable = true)\n",
      " |-- runtime: integer (nullable = true)\n",
      " |-- genre: string (nullable = true)\n",
      " |-- director: string (nullable = true)\n",
      " |-- language: string (nullable = true)\n",
      " |-- country: string (nullable = true)\n",
      " |-- awards: string (nullable = true)\n",
      " |-- metascore: integer (nullable = true)\n",
      " |-- imdb_rating: float (nullable = true)\n",
      " |-- imdb_votes: integer (nullable = true)\n",
      " |-- wins: integer (nullable = false)\n",
      " |-- nominations: integer (nullable = false)\n",
      " |-- oscar_wins: integer (nullable = false)\n",
      " |-- oscar_nominations: integer (nullable = false)\n",
      " |-- golden_globe_nominations: integer (nullable = false)\n",
      "\n"
     ]
    }
   ],
   "source": [
    "desdf17.printSchema()"
   ]
  },
  {
   "cell_type": "code",
   "execution_count": 29,
   "id": "a34e6990-821c-43a6-9096-94fdf3950e8d",
   "metadata": {},
   "outputs": [
    {
     "name": "stdout",
     "output_type": "stream",
     "text": [
      "+--------------------+----+-----------+----------+-----------------+------------------------+\n",
      "|              awards|wins|nominations|oscar_wins|oscar_nominations|golden_globe_nominations|\n",
      "+--------------------+----+-----------+----------+-----------------+------------------------+\n",
      "|     10 nominations.|   0|         10|         0|                0|                       0|\n",
      "|             Unknown|   0|          0|         0|                0|                       0|\n",
      "|      3 nominations.|   0|          3|         0|                0|                       0|\n",
      "|1 win & 1 nominat...|   1|          1|         0|                0|                       0|\n",
      "|Nominated for 1 O...|  20|         62|         0|                1|                       0|\n",
      "|      2 nominations.|   0|          2|         0|                0|                       0|\n",
      "|       1 nomination.|   0|          1|         0|                0|                       0|\n",
      "|7 wins & 32 nomin...|   7|         32|         0|                0|                       0|\n",
      "|      4 nominations.|   0|          4|         0|                0|                       0|\n",
      "|             Unknown|   0|          0|         0|                0|                       0|\n",
      "|      2 nominations.|   0|          2|         0|                0|                       0|\n",
      "|             Unknown|   0|          0|         0|                0|                       0|\n",
      "|             Unknown|   0|          0|         0|                0|                       0|\n",
      "|             Unknown|   0|          0|         0|                0|                       0|\n",
      "|             Unknown|   0|          0|         0|                0|                       0|\n",
      "|Won 1 Oscar. Anot...|  14|         38|         1|                0|                       0|\n",
      "|             Unknown|   0|          0|         0|                0|                       0|\n",
      "|2 wins & 5 nomina...|   2|          5|         0|                0|                       0|\n",
      "|8 wins & 9 nomina...|   8|          9|         0|                0|                       0|\n",
      "|              1 win.|   1|          0|         0|                0|                       0|\n",
      "+--------------------+----+-----------+----------+-----------------+------------------------+\n",
      "only showing top 20 rows\n",
      "\n"
     ]
    }
   ],
   "source": [
    "desdf17.select(\"awards\",\"wins\",\"nominations\",\"oscar_wins\",\"oscar_nominations\",\"golden_globe_nominations\").show()"
   ]
  },
  {
   "cell_type": "code",
   "execution_count": 59,
   "id": "58db1272-8da2-4a9f-8505-ea432253d0b1",
   "metadata": {},
   "outputs": [],
   "source": [
    "#Replacing N/A values to None\n",
    "desdf21 = desdf17.withColumn(\n",
    "    \"released_at\",\n",
    "    when(col(\"released_at\").isin(\"N/A\"), None).otherwise(col(\"released_at\"))\n",
    ")"
   ]
  },
  {
   "cell_type": "code",
   "execution_count": 32,
   "id": "4940090c-e4ed-4df1-bb30-3ff685bbf11b",
   "metadata": {},
   "outputs": [
    {
     "name": "stdout",
     "output_type": "stream",
     "text": [
      "+---------+--------------------+-------+---------+-----------+----------+-------+--------------------+--------------------+-------------------+-----------+--------------------+---------+-----------+----------+----+-----------+----------+-----------------+------------------------+\n",
      "|  imdb_id|               title|   type|    rated|released_at|  added_at|runtime|               genre|            director|           language|    country|              awards|metascore|imdb_rating|imdb_votes|wins|nominations|oscar_wins|oscar_nominations|golden_globe_nominations|\n",
      "+---------+--------------------+-------+---------+-----------+----------+-------+--------------------+--------------------+-------------------+-----------+--------------------+---------+-----------+----------+----+-----------+----------+-----------------+------------------------+\n",
      "|tt0104437|Honey, I Blew Up ...|  movie|       PG|  17-Jul-92|2019-11-12|     89|Adventure, Comedy...|      Randal Kleiser|            English|        USA|     10 nominations.|       50|        4.8|     39775|   0|         10|         0|                0|                       0|\n",
      "|tt7979492|        Kim Possible|  movie|     TV-G|  15-Feb-19|2019-11-12|     86|Action, Adventure...|Zach Lipovsky, Ad...|            English|        USA|             Unknown|        0|        3.6|      2030|   0|          0|         0|                0|                       0|\n",
      "|tt0397113|        Tiger Cruise|  movie|    TV-PG|  06-Aug-04|2019-11-12|     88|       Drama, Family|      Duwayne Dunham|            English|        USA|      3 nominations.|        0|        6.2|      1166|   0|          3|         0|                0|                       0|\n",
      "|tt0092638|    Benji the Hunted|  movie|        G|  19-Jun-87|2019-11-12|     88|   Adventure, Family|            Joe Camp|            English|        USA|1 win & 1 nominat...|       53|        6.3|      2629|   1|          1|         0|                0|                       0|\n",
      "|tt1300854|          Iron Man 3|  movie|    PG-13|  03-May-13|2019-11-12|    130|Action, Adventure...|         Shane Black|            English|        USA|Nominated for 1 O...|       62|        7.2|    730917|  20|         62|         0|                1|                       0|\n",
      "|tt0120317|       That Darn Cat|  movie|       PG|  14-Feb-97|2019-11-12|     89|Action, Comedy, C...|          Bob Spiers|            English|        USA|      2 nominations.|       36|        4.7|      3952|   0|          2|         0|                0|                       0|\n",
      "|tt0211174|   Up, Up, and Away!|  movie|     TV-G|  22-Jan-00|2019-11-12|     90|Comedy, Family, F...|     Robert Townsend|            English|Canada, USA|       1 nomination.|        0|        5.6|      1736|   0|          1|         0|                0|                       0|\n",
      "|tt6139732|             Aladdin|  movie|       PG|  24-May-19|2020-01-08|    128|Adventure, Family...|         Guy Ritchie|    English, Arabic|        USA|7 wins & 32 nomin...|       53|        7.0|    204537|   7|         32|         0|                0|                       0|\n",
      "|tt0756522|    Little Einsteins| series|     TV-Y|  09-Oct-05|2019-11-12|     30|Animation, Advent...|             Unknown|            English|        USA|      4 nominations.|        0|        6.2|      1143|   0|          4|         0|                0|                       0|\n",
      "|tt0058056|Emil and the Dete...|  movie|       PG|  18-Dec-64|2019-11-12|     99|Comedy, Family, D...|     Peter Tewksbury|            English|        USA|             Unknown|        0|        6.2|       390|   0|          0|         0|                0|                       0|\n",
      "|tt0445990|          Invincible|  movie|       PG|  25-Aug-06|2019-11-12|    105|Biography, Drama,...|        Ericson Core|            English|        USA|      2 nominations.|       63|        7.1|     63682|   0|          2|         0|                0|                       0|\n",
      "|tt9073722|Marvel Rising: In...| series|  Unrated|  13-Aug-18|2019-11-12|      0|Animation, Short,...|             Unknown|            English|        USA|             Unknown|        0|        4.9|       255|   0|          0|         0|                0|                       0|\n",
      "|tt0088814|  The Black Cauldron|  movie|       PG|  24-Jul-85|2019-11-12|     80|Animation, Action...|Ted Berman, Richa...|English, Portuguese|    USA, UK|             Unknown|       59|        6.4|     29395|   0|          0|         0|                0|                       0|\n",
      "|tt0027126|The Tortoise and ...|  movie| Approved|  05-Jan-35|2019-11-12|      9|Animation, Short,...|     Wilfred Jackson|            English|        USA|             Unknown|        0|        7.2|      2028|   0|          0|         0|                0|                       0|\n",
      "|tt0323250|      Mike's New Car|  movie|Not Rated|  09-Aug-02|2019-11-12|      4|Animation, Short,...|Pete Docter, Roge...|            English|        USA|             Unknown|        0|        7.1|     11759|   0|          0|         0|                0|                       0|\n",
      "|tt0198781|      Monsters, Inc.|  movie|        G|  02-Nov-01|2019-11-12|     92|Animation, Advent...|Pete Docter, Davi...|            English|        USA|Won 1 Oscar. Anot...|       79|        8.0|    779728|  14|         38|         1|                0|                       0|\n",
      "|tt1378121|         El Materdor|episode|  Unrated|  29-Oct-08|2020-01-01|     36|Animation, Advent...|John Lasseter, Ro...|            English|        USA|             Unknown|        0|        6.4|       283|   0|          0|         0|                0|                       0|\n",
      "|tt0092345|           DuckTales| series|     TV-G|  18-Sep-87|2019-11-12|     23|Animation, Advent...|             Unknown|            English|        USA|2 wins & 5 nomina...|        0|        8.1|     27880|   2|          5|         0|                0|                       0|\n",
      "|tt0962726|High School Music...|  movie|        G|  24-Oct-08|2019-11-12|    112|Comedy, Drama, Fa...|        Kenny Ortega|            English|        USA|8 wins & 9 nomina...|       57|        4.8|     55628|   8|          9|         0|                0|                       0|\n",
      "|tt0115215| The Incredible Hulk| series|    TV-Y7|  08-Sep-96|2019-11-12|     20|Animation, Action...|             Unknown|            English|        USA|              1 win.|        0|        6.8|      2643|   1|          0|         0|                0|                       0|\n",
      "+---------+--------------------+-------+---------+-----------+----------+-------+--------------------+--------------------+-------------------+-----------+--------------------+---------+-----------+----------+----+-----------+----------+-----------------+------------------------+\n",
      "only showing top 20 rows\n",
      "\n"
     ]
    }
   ],
   "source": [
    "desdf21.show()"
   ]
  },
  {
   "cell_type": "code",
   "execution_count": 33,
   "id": "0ea02f8d-40a6-478f-ab17-5fedc532a142",
   "metadata": {},
   "outputs": [],
   "source": [
    "desdf22 = desdf21.drop(\"awards\")"
   ]
  },
  {
   "cell_type": "code",
   "execution_count": 34,
   "id": "37408261-accc-483e-9ab0-2f05257352c2",
   "metadata": {},
   "outputs": [
    {
     "name": "stdout",
     "output_type": "stream",
     "text": [
      "root\n",
      " |-- imdb_id: string (nullable = true)\n",
      " |-- title: string (nullable = true)\n",
      " |-- type: string (nullable = true)\n",
      " |-- rated: string (nullable = true)\n",
      " |-- released_at: string (nullable = true)\n",
      " |-- added_at: date (nullable = true)\n",
      " |-- runtime: integer (nullable = true)\n",
      " |-- genre: string (nullable = true)\n",
      " |-- director: string (nullable = true)\n",
      " |-- language: string (nullable = true)\n",
      " |-- country: string (nullable = true)\n",
      " |-- metascore: integer (nullable = true)\n",
      " |-- imdb_rating: float (nullable = true)\n",
      " |-- imdb_votes: integer (nullable = true)\n",
      " |-- wins: integer (nullable = false)\n",
      " |-- nominations: integer (nullable = false)\n",
      " |-- oscar_wins: integer (nullable = false)\n",
      " |-- oscar_nominations: integer (nullable = false)\n",
      " |-- golden_globe_nominations: integer (nullable = false)\n",
      "\n"
     ]
    }
   ],
   "source": [
    "desdf22.printSchema()"
   ]
  },
  {
   "cell_type": "code",
   "execution_count": 36,
   "id": "976b4bab-6740-415a-b19d-6f948761a6e3",
   "metadata": {},
   "outputs": [],
   "source": [
    "desdf22.coalesce(1).write.csv(\"C:/Users/AMSPATIL/OneDrive - Capgemini/Desktop/cleaned_38\",header=True ,mode=\"overwrite\")"
   ]
  },
  {
   "cell_type": "code",
   "execution_count": null,
   "id": "21fb93c8-27a0-4fd3-be5a-fade95db7291",
   "metadata": {},
   "outputs": [],
   "source": []
  }
 ],
 "metadata": {
  "kernelspec": {
   "display_name": "Python 3 (ipykernel)",
   "language": "python",
   "name": "python3"
  },
  "language_info": {
   "codemirror_mode": {
    "name": "ipython",
    "version": 3
   },
   "file_extension": ".py",
   "mimetype": "text/x-python",
   "name": "python",
   "nbconvert_exporter": "python",
   "pygments_lexer": "ipython3",
   "version": "3.9.12"
  }
 },
 "nbformat": 4,
 "nbformat_minor": 5
}
