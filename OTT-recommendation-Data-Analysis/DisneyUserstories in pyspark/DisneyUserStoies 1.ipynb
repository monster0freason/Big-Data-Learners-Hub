{
 "cells": [
  {
   "attachments": {},
   "cell_type": "markdown",
   "id": "6021276d-f8d3-436e-93fc-125e10e01426",
   "metadata": {},
   "source": [
    "<h1>1) Which director's movies has the highest votes? and for that director, which year he has the highest votes?</h1>"
   ]
  },
  {
   "cell_type": "code",
   "execution_count": 13,
   "id": "14a7d5e0-f106-4914-9b08-8e98dcc02ecd",
   "metadata": {},
   "outputs": [
    {
     "name": "stdout",
     "output_type": "stream",
     "text": [
      "The director with the highest total votes is George Lucas.\n",
      "The year with the highest votes for George Lucas is 2019-11-12 with 3182245 votes.\n"
     ]
    }
   ],
   "source": [
    "from pyspark.sql import SparkSession\n",
    "from pyspark.sql.functions import col, sum as spark_sum, max as spark_max\n",
    "\n",
    "# Initialize Spark session\n",
    "spark = SparkSession.builder.appName(\"DisneyAnalysis\").getOrCreate()\n",
    "\n",
    "# Load the Disney dataset\n",
    "df = spark.read.csv(\"disney_cleaned_222.csv\", header=True, inferSchema=True)\n",
    "\n",
    "# Group by director and sum the votes\n",
    "director_votes = df.groupBy(\"director\").agg(spark_sum(\"imdb_votes\").alias(\"total_votes\"))\n",
    "\n",
    "# Find the director with the highest total votes\n",
    "top_director_row = director_votes.orderBy(col(\"total_votes\").desc()).first()\n",
    "top_director = top_director_row[\"director\"]\n",
    "\n",
    "# Filter the original dataset for the top director\n",
    "top_director_df = df.filter(col(\"director\") == top_director)\n",
    "\n",
    "# Group by year and sum the votes for the top director\n",
    "yearly_votes = top_director_df.groupBy(\"added_at\").agg(spark_sum(\"imdb_votes\").alias(\"yearly_votes\"))\n",
    "\n",
    "# Find the year with the highest votes for the top director\n",
    "top_year_row = yearly_votes.orderBy(col(\"yearly_votes\").desc()).first()\n",
    "top_year = top_year_row[\"added_at\"]\n",
    "top_year_votes = top_year_row[\"yearly_votes\"]\n",
    "\n",
    "print(f\"The director with the highest total votes is {top_director}.\")\n",
    "print(f\"The year with the highest votes for {top_director} is {top_year} with {top_year_votes} votes.\")\n",
    "\n"
   ]
  },
  {
   "attachments": {},
   "cell_type": "markdown",
   "id": "f4d55061-e007-4aa8-a7e4-0524ee17ddb9",
   "metadata": {},
   "source": [
    "<h1>2) Total number of movies released in 1999, by director wise.</h1>"
   ]
  },
  {
   "cell_type": "code",
   "execution_count": 14,
   "id": "36d11beb-b4ce-4f03-b70a-b550aafc1c92",
   "metadata": {},
   "outputs": [
    {
     "name": "stdout",
     "output_type": "stream",
     "text": [
      "+--------------------+-----+\n",
      "|            director|count|\n",
      "+--------------------+-----+\n",
      "|          Gil Junger|    1|\n",
      "|       Maurice Joyce|    1|\n",
      "|       David Kellogg|    1|\n",
      "|        LeVar Burton|    1|\n",
      "|Robert C. Ramirez...|    1|\n",
      "|     Kenneth Johnson|    2|\n",
      "|          Rod Daniel|    1|\n",
      "|             Unknown|    3|\n",
      "|         David Lynch|    1|\n",
      "|         Steve Boyum|    1|\n",
      "|         Greg Beeman|    1|\n",
      "|      Duwayne Dunham|    1|\n",
      "|John Lasseter, As...|    1|\n",
      "|        Rob Marshall|    1|\n",
      "|      Paul Schneider|    1|\n",
      "|        George Lucas|    1|\n",
      "|Jun Falkenstein, ...|    1|\n",
      "|       Donald Petrie|    1|\n",
      "+--------------------+-----+\n",
      "\n"
     ]
    }
   ],
   "source": [
    "\n",
    "movies_1999 = df.filter(col(\"released_at\").rlike(\"(?i)-99$\"))\n",
    "\n",
    "# Group by director and count the number of movies\n",
    "movies_by_director = movies_1999.groupBy(\"director\").count()\n",
    "\n",
    "# Show the result\n",
    "movies_by_director.show()\n"
   ]
  },
  {
   "attachments": {},
   "cell_type": "markdown",
   "id": "e5ef8517-79c3-40b6-a32b-7127817f9328",
   "metadata": {},
   "source": [
    "<h1>3) Which year movies got highest awards? And it belongs to which director?</h1>"
   ]
  },
  {
   "cell_type": "code",
   "execution_count": 31,
   "id": "4811798b-477b-433d-af92-beb37f930741",
   "metadata": {},
   "outputs": [
    {
     "name": "stdout",
     "output_type": "stream",
     "text": [
      "The year with the highest total awards is: 16-Feb-18\n",
      "+------------+------------+\n",
      "|    director|total_awards|\n",
      "+------------+------------+\n",
      "|Ryan Coogler|         111|\n",
      "+------------+------------+\n",
      "\n"
     ]
    }
   ],
   "source": [
    "from pyspark.sql.functions import col, sum as spark_sum\n",
    "\n",
    "# Create a new column for total awards\n",
    "df_with_total = df.withColumn(\"total_awards\", col(\"wins\") + col(\"oscar_wins\"))\n",
    "\n",
    "# Filter out rows where director is 'unknown'\n",
    "df_filtered = df_with_total.filter(col(\"director\") != \"Unknown\")\n",
    "\n",
    "# Group by release year and sum the total awards\n",
    "awards_by_year = df_filtered.groupBy(\"released_at\").agg(spark_sum(\"total_awards\").alias(\"total_awards\"))\n",
    "\n",
    "# Find the year with the highest total awards\n",
    "max_awards_row = awards_by_year.orderBy(col(\"total_awards\").desc()).first()\n",
    "max_awards_year = max_awards_row[\"released_at\"]\n",
    "\n",
    "# Filter the dataset for that year and get directors with non-zero total awards\n",
    "directors_in_max_year = df_filtered.filter(\n",
    "    (col(\"released_at\") == max_awards_year) & (col(\"total_awards\") > 0)\n",
    ").select(\"director\", \"total_awards\")\n",
    "\n",
    "# Show results\n",
    "print(f\"The year with the highest total awards is: {max_awards_year}\")\n",
    "directors_in_max_year.show()\n",
    "\n"
   ]
  },
  {
   "attachments": {},
   "cell_type": "markdown",
   "id": "9b0f5583-c7b4-448b-8cd6-12c8c3a125b5",
   "metadata": {},
   "source": [
    "<h1>4) Total number of movies nominated for awards between 1998-2018?</h1>"
   ]
  },
  {
   "cell_type": "code",
   "execution_count": 41,
   "id": "036f2910-61b0-4111-9f0a-ed0abaa2386d",
   "metadata": {},
   "outputs": [
    {
     "name": "stdout",
     "output_type": "stream",
     "text": [
      "Total number of Disney movies nominated for awards between 1998 and 2018: 362\n"
     ]
    }
   ],
   "source": [
    "\n",
    "# Add a new column for total nominations\n",
    "df_with_total_nominations = df.withColumn(\"total_nominations\",col(\"nominations\") + col(\"oscar_nominations\") + col(\"golden_globe_nominations\"))\n",
    "\n",
    "from pyspark.sql.functions import regexp_extract\n",
    "\n",
    "# Extract year from 'released_at' and convert to full year\n",
    "df_with_year = df_with_total_nominations.withColumn(\"release_year\",regexp_extract(\"released_at\", r\"(\\d{2})-(\\w{3})-(\\d{2})\", 3).cast(\"int\") + 1900).withColumn(\"release_year\", col(\"release_year\") + (100 * (col(\"release_year\") < 1950).cast(\"int\")))\n",
    "\n",
    "# Filter for nominated movies between 1998 and 2018\n",
    "nominated_movies = df_with_year.filter(\n",
    "    (col(\"release_year\") >= 1998) &\n",
    "    (col(\"release_year\") <= 2018) &\n",
    "    (col(\"total_nominations\").isNotNull()) &\n",
    "    (col(\"total_nominations\") > 0)\n",
    ")\n",
    "\n",
    "# Count the total number of such movies\n",
    "total_nominated = nominated_movies.count()\n",
    "\n",
    "print(f\"Total number of Disney movies nominated for awards between 1998 and 2018: {total_nominated}\")\n",
    "\n"
   ]
  },
  {
   "cell_type": "code",
   "execution_count": null,
   "id": "6e4cc0f7-5d81-45e8-83fc-3a13a95ea058",
   "metadata": {},
   "outputs": [],
   "source": []
  }
 ],
 "metadata": {
  "kernelspec": {
   "display_name": "Python 3 (ipykernel)",
   "language": "python",
   "name": "python3"
  },
  "language_info": {
   "codemirror_mode": {
    "name": "ipython",
    "version": 3
   },
   "file_extension": ".py",
   "mimetype": "text/x-python",
   "name": "python",
   "nbconvert_exporter": "python",
   "pygments_lexer": "ipython3",
   "version": "3.10.0"
  }
 },
 "nbformat": 4,
 "nbformat_minor": 5
}
